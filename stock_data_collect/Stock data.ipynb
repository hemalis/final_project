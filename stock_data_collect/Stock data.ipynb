{
 "cells": [
  {
   "cell_type": "code",
   "execution_count": 2,
   "id": "1578af58",
   "metadata": {},
   "outputs": [],
   "source": [
    "# Import the dependencies.\n",
    "import pandas as pd\n",
    "import matplotlib.pyplot as plt\n",
    "import numpy as np\n",
    "# Import the requests library.\n",
    "import requests\n",
    "\n",
    "# Import the API key.\n",
    "# from config import Api_key"
   ]
  },
  {
   "cell_type": "code",
   "execution_count": 32,
   "id": "a5d4ef1d",
   "metadata": {},
   "outputs": [
    {
     "data": {
      "text/html": [
       "<div>\n",
       "<style scoped>\n",
       "    .dataframe tbody tr th:only-of-type {\n",
       "        vertical-align: middle;\n",
       "    }\n",
       "\n",
       "    .dataframe tbody tr th {\n",
       "        vertical-align: top;\n",
       "    }\n",
       "\n",
       "    .dataframe thead th {\n",
       "        text-align: right;\n",
       "    }\n",
       "</style>\n",
       "<table border=\"1\" class=\"dataframe\">\n",
       "  <thead>\n",
       "    <tr style=\"text-align: right;\">\n",
       "      <th></th>\n",
       "      <th>Ticker</th>\n",
       "    </tr>\n",
       "  </thead>\n",
       "  <tbody>\n",
       "  </tbody>\n",
       "</table>\n",
       "</div>"
      ],
      "text/plain": [
       "Empty DataFrame\n",
       "Columns: [Ticker]\n",
       "Index: []"
      ]
     },
     "execution_count": 32,
     "metadata": {},
     "output_type": "execute_result"
    }
   ],
   "source": [
    "ticker = \"BTC\"\n",
    "interval = \"1day\"\n",
    "start_date = \"2022-11-8\" \n",
    "end_date = \"2022-11-15\"\n",
    "url = f\"https://api.twelvedata.com/time_series?symbol={ticker}&start_date={start_date}&end_date={end_date}&interval={interval}&apikey=72d1836457504b678dca9c82302f0d1e\"\n",
    "data = requests.get(url).json()\n",
    "data_df = pd.DataFrame(data['values'])\n",
    "data_df.rename({'datetime':'Datetime', 'open':'Open', 'high':'High', 'low':'Low', 'close':'Close', 'volume':'Volume'}, axis=1, inplace=True)\n",
    "data_df.insert(loc=0,column='Ticker', value='BTC')\n",
    "data_df.tail()"
   ]
  },
  {
   "cell_type": "code",
   "execution_count": 39,
   "id": "2edba387",
   "metadata": {},
   "outputs": [
    {
     "ename": "KeyError",
     "evalue": "'results'",
     "output_type": "error",
     "traceback": [
      "\u001b[0;31m---------------------------------------------------------------------------\u001b[0m",
      "\u001b[0;31mKeyError\u001b[0m                                  Traceback (most recent call last)",
      "Input \u001b[0;32mIn [39]\u001b[0m, in \u001b[0;36m<cell line: 7>\u001b[0;34m()\u001b[0m\n\u001b[1;32m      5\u001b[0m url \u001b[38;5;241m=\u001b[39m \u001b[38;5;124mf\u001b[39m\u001b[38;5;124m\"\u001b[39m\u001b[38;5;124mhttps://api.polygon.io/v2/aggs/ticker/ETH/range/1/day/2022-11-8/2022-11-15?adjusted=true&sort=asc&limit=120&apiKey=1yFGPU1VXb0aPmtGBXcdmR2MjVUChzjj\u001b[39m\u001b[38;5;124m\"\u001b[39m\n\u001b[1;32m      6\u001b[0m data \u001b[38;5;241m=\u001b[39m requests\u001b[38;5;241m.\u001b[39mget(url)\u001b[38;5;241m.\u001b[39mjson()\n\u001b[0;32m----> 7\u001b[0m data_df \u001b[38;5;241m=\u001b[39m pd\u001b[38;5;241m.\u001b[39mDataFrame(\u001b[43mdata\u001b[49m\u001b[43m[\u001b[49m\u001b[38;5;124;43m'\u001b[39;49m\u001b[38;5;124;43mresults\u001b[39;49m\u001b[38;5;124;43m'\u001b[39;49m\u001b[43m]\u001b[49m)\n\u001b[1;32m      8\u001b[0m \u001b[38;5;66;03m# data_df.rename({'datetime':'Datetime', 'open':'Open', 'high':'High', 'low':'Low', 'close':'Close', 'volume':'Volume'}, axis=1, inplace=True)\u001b[39;00m\n\u001b[1;32m      9\u001b[0m \u001b[38;5;66;03m# data_df.insert(loc=0,column='Ticker', value='BTC')\u001b[39;00m\n\u001b[1;32m     10\u001b[0m data_df\u001b[38;5;241m.\u001b[39mtail()\n",
      "\u001b[0;31mKeyError\u001b[0m: 'results'"
     ]
    }
   ],
   "source": [
    "ticker = \"BTC\"\n",
    "interval = \"1day\"\n",
    "start_date = \"2022-11-8\" \n",
    "end_date = \"2022-11-15\"\n",
    "url = f\"https://api.polygon.io/v2/aggs/ticker/ETH/range/1/day/2022-11-8/2022-11-15?adjusted=true&sort=asc&limit=120&apiKey=1yFGPU1VXb0aPmtGBXcdmR2MjVUChzjj\"\n",
    "data = requests.get(url).json()\n",
    "data_df = pd.DataFrame(data['results'])\n",
    "# data_df.rename({'datetime':'Datetime', 'open':'Open', 'high':'High', 'low':'Low', 'close':'Close', 'volume':'Volume'}, axis=1, inplace=True)\n",
    "# data_df.insert(loc=0,column='Ticker', value='BTC')\n",
    "data_df.tail()"
   ]
  },
  {
   "cell_type": "code",
   "execution_count": 30,
   "id": "810b4a62",
   "metadata": {},
   "outputs": [],
   "source": [
    "output = data_df.to_json('Stock Data/BTC_daily.json', indent = 1, orient='records')"
   ]
  },
  {
   "cell_type": "code",
   "execution_count": 4,
   "id": "f69af604",
   "metadata": {},
   "outputs": [],
   "source": [
    "# data_df.to_csv('Stock Data/AAPL_daily.csv', index=False)"
   ]
  }
 ],
 "metadata": {
  "kernelspec": {
   "display_name": "PythonData",
   "language": "python",
   "name": "pythondata"
  },
  "language_info": {
   "codemirror_mode": {
    "name": "ipython",
    "version": 3
   },
   "file_extension": ".py",
   "mimetype": "text/x-python",
   "name": "python",
   "nbconvert_exporter": "python",
   "pygments_lexer": "ipython3",
   "version": "3.9.12"
  }
 },
 "nbformat": 4,
 "nbformat_minor": 5
}
