{
 "cells": [
  {
   "cell_type": "code",
   "execution_count": 2,
   "id": "1578af58",
   "metadata": {},
   "outputs": [],
   "source": [
    "# Import the dependencies.\n",
    "import pandas as pd\n",
    "import matplotlib.pyplot as plt\n",
    "import numpy as np\n",
    "# Import the requests library.\n",
    "import requests\n",
    "\n",
    "# Import the API key.\n",
    "from config import Api_key"
   ]
  },
  {
   "cell_type": "code",
   "execution_count": 3,
   "id": "a5d4ef1d",
   "metadata": {},
   "outputs": [
    {
     "data": {
      "text/html": [
       "<div>\n",
       "<style scoped>\n",
       "    .dataframe tbody tr th:only-of-type {\n",
       "        vertical-align: middle;\n",
       "    }\n",
       "\n",
       "    .dataframe tbody tr th {\n",
       "        vertical-align: top;\n",
       "    }\n",
       "\n",
       "    .dataframe thead th {\n",
       "        text-align: right;\n",
       "    }\n",
       "</style>\n",
       "<table border=\"1\" class=\"dataframe\">\n",
       "  <thead>\n",
       "    <tr style=\"text-align: right;\">\n",
       "      <th></th>\n",
       "      <th>datetime</th>\n",
       "      <th>open</th>\n",
       "      <th>high</th>\n",
       "      <th>low</th>\n",
       "      <th>close</th>\n",
       "      <th>volume</th>\n",
       "    </tr>\n",
       "  </thead>\n",
       "  <tbody>\n",
       "    <tr>\n",
       "      <th>3221</th>\n",
       "      <td>2010-01-08</td>\n",
       "      <td>7.51071</td>\n",
       "      <td>7.57143</td>\n",
       "      <td>7.46643</td>\n",
       "      <td>7.57071</td>\n",
       "      <td>447610800</td>\n",
       "    </tr>\n",
       "    <tr>\n",
       "      <th>3222</th>\n",
       "      <td>2010-01-07</td>\n",
       "      <td>7.56250</td>\n",
       "      <td>7.57143</td>\n",
       "      <td>7.46607</td>\n",
       "      <td>7.52071</td>\n",
       "      <td>477131200</td>\n",
       "    </tr>\n",
       "    <tr>\n",
       "      <th>3223</th>\n",
       "      <td>2010-01-06</td>\n",
       "      <td>7.65643</td>\n",
       "      <td>7.68679</td>\n",
       "      <td>7.52679</td>\n",
       "      <td>7.53464</td>\n",
       "      <td>552160000</td>\n",
       "    </tr>\n",
       "    <tr>\n",
       "      <th>3224</th>\n",
       "      <td>2010-01-05</td>\n",
       "      <td>7.66429</td>\n",
       "      <td>7.69964</td>\n",
       "      <td>7.61607</td>\n",
       "      <td>7.65643</td>\n",
       "      <td>601904800</td>\n",
       "    </tr>\n",
       "    <tr>\n",
       "      <th>3225</th>\n",
       "      <td>2010-01-04</td>\n",
       "      <td>7.62250</td>\n",
       "      <td>7.66071</td>\n",
       "      <td>7.58500</td>\n",
       "      <td>7.64321</td>\n",
       "      <td>493729600</td>\n",
       "    </tr>\n",
       "  </tbody>\n",
       "</table>\n",
       "</div>"
      ],
      "text/plain": [
       "        datetime     open     high      low    close     volume\n",
       "3221  2010-01-08  7.51071  7.57143  7.46643  7.57071  447610800\n",
       "3222  2010-01-07  7.56250  7.57143  7.46607  7.52071  477131200\n",
       "3223  2010-01-06  7.65643  7.68679  7.52679  7.53464  552160000\n",
       "3224  2010-01-05  7.66429  7.69964  7.61607  7.65643  601904800\n",
       "3225  2010-01-04  7.62250  7.66071  7.58500  7.64321  493729600"
      ]
     },
     "execution_count": 3,
     "metadata": {},
     "output_type": "execute_result"
    }
   ],
   "source": [
    "ticker = \"AAPL\"\n",
    "interval = \"1day\"\n",
    "start_date = \"2010-01-01\" \n",
    "end_date = \"2022-10-26\"\n",
    "url = f\"https://api.twelvedata.com/time_series?symbol={ticker}&start_date={start_date}&end_date={end_date}&interval={interval}&apikey={Api_key}\"\n",
    "data = requests.get(url).json()\n",
    "data_df = pd.DataFrame(data['values'])\n",
    "data_df.tail()"
   ]
  },
  {
   "cell_type": "code",
   "execution_count": 4,
   "id": "f69af604",
   "metadata": {},
   "outputs": [],
   "source": [
    "data_df.to_csv('Stock Data/AAPL_daily.csv', index=False)"
   ]
  }
 ],
 "metadata": {
  "kernelspec": {
   "display_name": "PythonData",
   "language": "python",
   "name": "pythondata"
  },
  "language_info": {
   "codemirror_mode": {
    "name": "ipython",
    "version": 3
   },
   "file_extension": ".py",
   "mimetype": "text/x-python",
   "name": "python",
   "nbconvert_exporter": "python",
   "pygments_lexer": "ipython3",
   "version": "3.9.12"
  }
 },
 "nbformat": 4,
 "nbformat_minor": 5
}
