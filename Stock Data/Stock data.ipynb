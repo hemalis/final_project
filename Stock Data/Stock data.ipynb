{
 "cells": [
  {
   "cell_type": "code",
   "execution_count": 2,
   "id": "1578af58",
   "metadata": {},
   "outputs": [],
   "source": [
    "# Import the dependencies.\n",
    "import pandas as pd\n",
    "import matplotlib.pyplot as plt\n",
    "import numpy as np\n",
    "# Import the requests library.\n",
    "import requests\n",
    "\n",
    "# Import the API key.\n",
    "from config import Api_key"
   ]
  },
  {
   "cell_type": "code",
   "execution_count": 3,
   "id": "a5d4ef1d",
   "metadata": {},
   "outputs": [
    {
     "data": {
      "text/html": [
       "<div>\n",
       "<style scoped>\n",
       "    .dataframe tbody tr th:only-of-type {\n",
       "        vertical-align: middle;\n",
       "    }\n",
       "\n",
       "    .dataframe tbody tr th {\n",
       "        vertical-align: top;\n",
       "    }\n",
       "\n",
       "    .dataframe thead th {\n",
       "        text-align: right;\n",
       "    }\n",
       "</style>\n",
       "<table border=\"1\" class=\"dataframe\">\n",
       "  <thead>\n",
       "    <tr style=\"text-align: right;\">\n",
       "      <th></th>\n",
       "      <th>datetime</th>\n",
       "      <th>open</th>\n",
       "      <th>high</th>\n",
       "      <th>low</th>\n",
       "      <th>close</th>\n",
       "      <th>volume</th>\n",
       "    </tr>\n",
       "  </thead>\n",
       "  <tbody>\n",
       "    <tr>\n",
       "      <th>3221</th>\n",
       "      <td>2010-01-08</td>\n",
       "      <td>7.51071</td>\n",
       "      <td>7.57143</td>\n",
       "      <td>7.46643</td>\n",
       "      <td>7.57071</td>\n",
       "      <td>447610800</td>\n",
       "    </tr>\n",
       "    <tr>\n",
       "      <th>3222</th>\n",
       "      <td>2010-01-07</td>\n",
       "      <td>7.56250</td>\n",
       "      <td>7.57143</td>\n",
       "      <td>7.46607</td>\n",
       "      <td>7.52071</td>\n",
       "      <td>477131200</td>\n",
       "    </tr>\n",
       "    <tr>\n",
       "      <th>3223</th>\n",
       "      <td>2010-01-06</td>\n",
       "      <td>7.65643</td>\n",
       "      <td>7.68679</td>\n",
       "      <td>7.52679</td>\n",
       "      <td>7.53464</td>\n",
       "      <td>552160000</td>\n",
       "    </tr>\n",
       "    <tr>\n",
       "      <th>3224</th>\n",
       "      <td>2010-01-05</td>\n",
       "      <td>7.66429</td>\n",
       "      <td>7.69964</td>\n",
       "      <td>7.61607</td>\n",
       "      <td>7.65643</td>\n",
       "      <td>601904800</td>\n",
       "    </tr>\n",
       "    <tr>\n",
       "      <th>3225</th>\n",
       "      <td>2010-01-04</td>\n",
       "      <td>7.62250</td>\n",
       "      <td>7.66071</td>\n",
       "      <td>7.58500</td>\n",
       "      <td>7.64321</td>\n",
       "      <td>493729600</td>\n",
       "    </tr>\n",
       "  </tbody>\n",
       "</table>\n",
       "</div>"
      ],
      "text/plain": [
       "        datetime     open     high      low    close     volume\n",
       "3221  2010-01-08  7.51071  7.57143  7.46643  7.57071  447610800\n",
       "3222  2010-01-07  7.56250  7.57143  7.46607  7.52071  477131200\n",
       "3223  2010-01-06  7.65643  7.68679  7.52679  7.53464  552160000\n",
       "3224  2010-01-05  7.66429  7.69964  7.61607  7.65643  601904800\n",
       "3225  2010-01-04  7.62250  7.66071  7.58500  7.64321  493729600"
      ]
     },
     "execution_count": 3,
     "metadata": {},
     "output_type": "execute_result"
    }
   ],
   "source": [
    "ticker = \"AAPL\"\n",
    "interval = \"1day\"\n",
    "start_date = \"2010-01-01\" \n",
    "end_date = \"2022-10-26\"\n",
    "url = f\"https://api.twelvedata.com/time_series?symbol={ticker}&start_date={start_date}&end_date={end_date}&interval={interval}&apikey={Api_key}\"\n",
    "data = requests.get(url).json()\n",
    "data_df = pd.DataFrame(data['values'])\n",
    "data_df.tail()"
   ]
  },
  {
   "cell_type": "code",
   "execution_count": 4,
   "id": "f69af604",
   "metadata": {},
   "outputs": [],
   "source": [
    "data_df.to_csv('Stock Data/AAPL_daily.csv', index=False)"
   ]
  },
  {
   "cell_type": "code",
   "execution_count": 5,
   "id": "b2bf0cfe",
   "metadata": {},
   "outputs": [
    {
     "data": {
      "text/html": [
       "<div>\n",
       "<style scoped>\n",
       "    .dataframe tbody tr th:only-of-type {\n",
       "        vertical-align: middle;\n",
       "    }\n",
       "\n",
       "    .dataframe tbody tr th {\n",
       "        vertical-align: top;\n",
       "    }\n",
       "\n",
       "    .dataframe thead th {\n",
       "        text-align: right;\n",
       "    }\n",
       "</style>\n",
       "<table border=\"1\" class=\"dataframe\">\n",
       "  <thead>\n",
       "    <tr style=\"text-align: right;\">\n",
       "      <th></th>\n",
       "      <th>datetime</th>\n",
       "      <th>open</th>\n",
       "      <th>high</th>\n",
       "      <th>low</th>\n",
       "      <th>close</th>\n",
       "      <th>volume</th>\n",
       "    </tr>\n",
       "  </thead>\n",
       "  <tbody>\n",
       "    <tr>\n",
       "      <th>4995</th>\n",
       "      <td>2022-10-07 10:44:00</td>\n",
       "      <td>116.03000</td>\n",
       "      <td>116.14000</td>\n",
       "      <td>116.03000</td>\n",
       "      <td>116.08000</td>\n",
       "      <td>108418</td>\n",
       "    </tr>\n",
       "    <tr>\n",
       "      <th>4996</th>\n",
       "      <td>2022-10-07 10:43:00</td>\n",
       "      <td>116.03000</td>\n",
       "      <td>116.09000</td>\n",
       "      <td>115.95000</td>\n",
       "      <td>116.00000</td>\n",
       "      <td>111522</td>\n",
       "    </tr>\n",
       "    <tr>\n",
       "      <th>4997</th>\n",
       "      <td>2022-10-07 10:42:00</td>\n",
       "      <td>116.08000</td>\n",
       "      <td>116.08000</td>\n",
       "      <td>115.93000</td>\n",
       "      <td>116.05000</td>\n",
       "      <td>94984</td>\n",
       "    </tr>\n",
       "    <tr>\n",
       "      <th>4998</th>\n",
       "      <td>2022-10-07 10:41:00</td>\n",
       "      <td>116.01000</td>\n",
       "      <td>116.12000</td>\n",
       "      <td>115.99000</td>\n",
       "      <td>116.08000</td>\n",
       "      <td>151597</td>\n",
       "    </tr>\n",
       "    <tr>\n",
       "      <th>4999</th>\n",
       "      <td>2022-10-07 10:40:00</td>\n",
       "      <td>115.78000</td>\n",
       "      <td>116.04000</td>\n",
       "      <td>115.78000</td>\n",
       "      <td>116.04000</td>\n",
       "      <td>135566</td>\n",
       "    </tr>\n",
       "  </tbody>\n",
       "</table>\n",
       "</div>"
      ],
      "text/plain": [
       "                 datetime       open       high        low      close  volume\n",
       "4995  2022-10-07 10:44:00  116.03000  116.14000  116.03000  116.08000  108418\n",
       "4996  2022-10-07 10:43:00  116.03000  116.09000  115.95000  116.00000  111522\n",
       "4997  2022-10-07 10:42:00  116.08000  116.08000  115.93000  116.05000   94984\n",
       "4998  2022-10-07 10:41:00  116.01000  116.12000  115.99000  116.08000  151597\n",
       "4999  2022-10-07 10:40:00  115.78000  116.04000  115.78000  116.04000  135566"
      ]
     },
     "execution_count": 5,
     "metadata": {},
     "output_type": "execute_result"
    }
   ],
   "source": [
    "ticker = \"AMZN\"\n",
    "interval = \"1min\"\n",
    "start_date = \"2010-01-01\" \n",
    "end_date = \"2022-10-26\"\n",
    "url = f\"https://api.twelvedata.com/time_series?symbol={ticker}&start_date={start_date}&end_date={end_date}&interval={interval}&apikey={Api_key}\"\n",
    "data = requests.get(url).json()\n",
    "data_df = pd.DataFrame(data['values'])\n",
    "data_df.tail()"
   ]
  },
  {
   "cell_type": "code",
   "execution_count": 44,
   "id": "e0345aac",
   "metadata": {},
   "outputs": [],
   "source": [
    "data_df.to_csv('Stock Data/AMZN_daily.csv', index=False)"
   ]
  },
  {
   "cell_type": "code",
   "execution_count": 30,
   "id": "4d5420ce",
   "metadata": {
    "scrolled": true
   },
   "outputs": [
    {
     "data": {
      "text/plain": [
       "0       2022-10-25 15:30:00\n",
       "1       2022-10-25 13:30:00\n",
       "2       2022-10-25 11:30:00\n",
       "3       2022-10-25 09:30:00\n",
       "4       2022-10-24 15:30:00\n",
       "               ...         \n",
       "3345    2019-06-21 10:00:00\n",
       "3346    2019-06-20 16:00:00\n",
       "3347    2019-06-20 14:00:00\n",
       "3348    2019-06-20 12:00:00\n",
       "3349    2019-06-20 10:00:00\n",
       "Name: datetime, Length: 3350, dtype: object"
      ]
     },
     "execution_count": 30,
     "metadata": {},
     "output_type": "execute_result"
    }
   ],
   "source": [
    "# data_df[\"datetime\"]"
   ]
  },
  {
   "cell_type": "code",
   "execution_count": 31,
   "id": "be28695c",
   "metadata": {
    "scrolled": true
   },
   "outputs": [
    {
     "data": {
      "text/plain": [
       "0       [2022-10-25, 15:30:00]\n",
       "1       [2022-10-25, 13:30:00]\n",
       "2       [2022-10-25, 11:30:00]\n",
       "3       [2022-10-25, 09:30:00]\n",
       "4       [2022-10-24, 15:30:00]\n",
       "                 ...          \n",
       "3345    [2019-06-21, 10:00:00]\n",
       "3346    [2019-06-20, 16:00:00]\n",
       "3347    [2019-06-20, 14:00:00]\n",
       "3348    [2019-06-20, 12:00:00]\n",
       "3349    [2019-06-20, 10:00:00]\n",
       "Name: datetime, Length: 3350, dtype: object"
      ]
     },
     "execution_count": 31,
     "metadata": {},
     "output_type": "execute_result"
    }
   ],
   "source": [
    "# data_df[\"datetime\"].str.split(\" \", n=1)"
   ]
  },
  {
   "cell_type": "code",
   "execution_count": 33,
   "id": "57ceddb4",
   "metadata": {
    "scrolled": true
   },
   "outputs": [
    {
     "data": {
      "text/html": [
       "<div>\n",
       "<style scoped>\n",
       "    .dataframe tbody tr th:only-of-type {\n",
       "        vertical-align: middle;\n",
       "    }\n",
       "\n",
       "    .dataframe tbody tr th {\n",
       "        vertical-align: top;\n",
       "    }\n",
       "\n",
       "    .dataframe thead th {\n",
       "        text-align: right;\n",
       "    }\n",
       "</style>\n",
       "<table border=\"1\" class=\"dataframe\">\n",
       "  <thead>\n",
       "    <tr style=\"text-align: right;\">\n",
       "      <th></th>\n",
       "      <th>Date</th>\n",
       "      <th>Time</th>\n",
       "    </tr>\n",
       "  </thead>\n",
       "  <tbody>\n",
       "    <tr>\n",
       "      <th>0</th>\n",
       "      <td>2022-10-25</td>\n",
       "      <td>15:30:00</td>\n",
       "    </tr>\n",
       "    <tr>\n",
       "      <th>1</th>\n",
       "      <td>2022-10-25</td>\n",
       "      <td>13:30:00</td>\n",
       "    </tr>\n",
       "    <tr>\n",
       "      <th>2</th>\n",
       "      <td>2022-10-25</td>\n",
       "      <td>11:30:00</td>\n",
       "    </tr>\n",
       "    <tr>\n",
       "      <th>3</th>\n",
       "      <td>2022-10-25</td>\n",
       "      <td>09:30:00</td>\n",
       "    </tr>\n",
       "    <tr>\n",
       "      <th>4</th>\n",
       "      <td>2022-10-24</td>\n",
       "      <td>15:30:00</td>\n",
       "    </tr>\n",
       "    <tr>\n",
       "      <th>...</th>\n",
       "      <td>...</td>\n",
       "      <td>...</td>\n",
       "    </tr>\n",
       "    <tr>\n",
       "      <th>3345</th>\n",
       "      <td>2019-06-21</td>\n",
       "      <td>10:00:00</td>\n",
       "    </tr>\n",
       "    <tr>\n",
       "      <th>3346</th>\n",
       "      <td>2019-06-20</td>\n",
       "      <td>16:00:00</td>\n",
       "    </tr>\n",
       "    <tr>\n",
       "      <th>3347</th>\n",
       "      <td>2019-06-20</td>\n",
       "      <td>14:00:00</td>\n",
       "    </tr>\n",
       "    <tr>\n",
       "      <th>3348</th>\n",
       "      <td>2019-06-20</td>\n",
       "      <td>12:00:00</td>\n",
       "    </tr>\n",
       "    <tr>\n",
       "      <th>3349</th>\n",
       "      <td>2019-06-20</td>\n",
       "      <td>10:00:00</td>\n",
       "    </tr>\n",
       "  </tbody>\n",
       "</table>\n",
       "<p>3350 rows × 2 columns</p>\n",
       "</div>"
      ],
      "text/plain": [
       "            Date      Time\n",
       "0     2022-10-25  15:30:00\n",
       "1     2022-10-25  13:30:00\n",
       "2     2022-10-25  11:30:00\n",
       "3     2022-10-25  09:30:00\n",
       "4     2022-10-24  15:30:00\n",
       "...          ...       ...\n",
       "3345  2019-06-21  10:00:00\n",
       "3346  2019-06-20  16:00:00\n",
       "3347  2019-06-20  14:00:00\n",
       "3348  2019-06-20  12:00:00\n",
       "3349  2019-06-20  10:00:00\n",
       "\n",
       "[3350 rows x 2 columns]"
      ]
     },
     "execution_count": 33,
     "metadata": {},
     "output_type": "execute_result"
    }
   ],
   "source": [
    "#split_data = data_df[\"datetime\"].str.split(\" \", n=1, expand=True)\n",
    "#split_data.rename(columns={0:\"Date\", 1:\"Time\"})"
   ]
  }
 ],
 "metadata": {
  "kernelspec": {
   "display_name": "PythonData",
   "language": "python",
   "name": "pythondata"
  },
  "language_info": {
   "codemirror_mode": {
    "name": "ipython",
    "version": 3
   },
   "file_extension": ".py",
   "mimetype": "text/x-python",
   "name": "python",
   "nbconvert_exporter": "python",
   "pygments_lexer": "ipython3",
   "version": "3.9.12"
  }
 },
 "nbformat": 4,
 "nbformat_minor": 5
}
