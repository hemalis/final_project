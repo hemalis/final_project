{
 "cells": [
  {
   "cell_type": "code",
   "execution_count": 31,
   "id": "882d2b56",
   "metadata": {},
   "outputs": [],
   "source": [
    "#pip install pycoingecko\n",
    "#pip install yahooquery\n",
    "#import modules\n",
    "import pandas as pd\n",
    "import datetime\n",
    "import time as t\n",
    "import plotly.graph_objects as go\n",
    "from plotly.offline import plot\n",
    "from pycoingecko import CoinGeckoAPI\n",
    "import yahooquery as yq\n",
    "from yahooquery import Ticker\n"
   ]
  },
  {
   "cell_type": "markdown",
   "id": "56800e3a",
   "metadata": {},
   "source": [
    "CRYPTO"
   ]
  },
  {
   "cell_type": "code",
   "execution_count": 32,
   "id": "4a227be1",
   "metadata": {},
   "outputs": [
    {
     "data": {
      "text/plain": [
       "{'gecko_says': '(V3) To the Moon!'}"
      ]
     },
     "execution_count": 32,
     "metadata": {},
     "output_type": "execute_result"
    }
   ],
   "source": [
    "#create a client\n",
    "cg = CoinGeckoAPI()\n",
    "#confirm connection\n",
    "CoinGeckoAPI().ping()"
   ]
  },
  {
   "cell_type": "code",
   "execution_count": 33,
   "id": "81ea1d78",
   "metadata": {},
   "outputs": [
    {
     "data": {
      "text/html": [
       "<div>\n",
       "<style scoped>\n",
       "    .dataframe tbody tr th:only-of-type {\n",
       "        vertical-align: middle;\n",
       "    }\n",
       "\n",
       "    .dataframe tbody tr th {\n",
       "        vertical-align: top;\n",
       "    }\n",
       "\n",
       "    .dataframe thead th {\n",
       "        text-align: right;\n",
       "    }\n",
       "</style>\n",
       "<table border=\"1\" class=\"dataframe\">\n",
       "  <thead>\n",
       "    <tr style=\"text-align: right;\">\n",
       "      <th></th>\n",
       "      <th>id</th>\n",
       "      <th>symbol</th>\n",
       "      <th>name</th>\n",
       "    </tr>\n",
       "  </thead>\n",
       "  <tbody>\n",
       "    <tr>\n",
       "      <th>0</th>\n",
       "      <td>arabian-doge</td>\n",
       "      <td>$adoge</td>\n",
       "      <td>Arabian Doge</td>\n",
       "    </tr>\n",
       "    <tr>\n",
       "      <th>1</th>\n",
       "      <td>alkimi</td>\n",
       "      <td>$ads</td>\n",
       "      <td>Alkimi</td>\n",
       "    </tr>\n",
       "    <tr>\n",
       "      <th>2</th>\n",
       "      <td>aurora-token</td>\n",
       "      <td>$adtx</td>\n",
       "      <td>Aurora Dimension</td>\n",
       "    </tr>\n",
       "    <tr>\n",
       "      <th>3</th>\n",
       "      <td>alpha-nodes</td>\n",
       "      <td>$alpha</td>\n",
       "      <td>Alpha Shares</td>\n",
       "    </tr>\n",
       "    <tr>\n",
       "      <th>4</th>\n",
       "      <td>alpha-labz</td>\n",
       "      <td>$alpha</td>\n",
       "      <td>Alpha Labz</td>\n",
       "    </tr>\n",
       "  </tbody>\n",
       "</table>\n",
       "</div>"
      ],
      "text/plain": [
       "             id  symbol              name\n",
       "0  arabian-doge  $adoge      Arabian Doge\n",
       "1        alkimi    $ads            Alkimi\n",
       "2  aurora-token   $adtx  Aurora Dimension\n",
       "3   alpha-nodes  $alpha      Alpha Shares\n",
       "4    alpha-labz  $alpha        Alpha Labz"
      ]
     },
     "execution_count": 33,
     "metadata": {},
     "output_type": "execute_result"
    }
   ],
   "source": [
    "#get a list of coins, sort df by id\n",
    "coin_list = CoinGeckoAPI().get_coins_list()\n",
    "coin_df = pd.DataFrame(coin_list).sort_values('symbol').reset_index(drop=True)\n",
    "coin_df.head()"
   ]
  },
  {
   "cell_type": "code",
   "execution_count": 34,
   "id": "665ed868",
   "metadata": {},
   "outputs": [
    {
     "data": {
      "text/html": [
       "<div>\n",
       "<style scoped>\n",
       "    .dataframe tbody tr th:only-of-type {\n",
       "        vertical-align: middle;\n",
       "    }\n",
       "\n",
       "    .dataframe tbody tr th {\n",
       "        vertical-align: top;\n",
       "    }\n",
       "\n",
       "    .dataframe thead th {\n",
       "        text-align: right;\n",
       "    }\n",
       "</style>\n",
       "<table border=\"1\" class=\"dataframe\">\n",
       "  <thead>\n",
       "    <tr style=\"text-align: right;\">\n",
       "      <th></th>\n",
       "      <th>id</th>\n",
       "      <th>symbol</th>\n",
       "      <th>name</th>\n",
       "    </tr>\n",
       "  </thead>\n",
       "  <tbody>\n",
       "    <tr>\n",
       "      <th>308</th>\n",
       "      <td>cardano</td>\n",
       "      <td>ada</td>\n",
       "      <td>Cardano</td>\n",
       "    </tr>\n",
       "    <tr>\n",
       "      <th>1880</th>\n",
       "      <td>bitcoin</td>\n",
       "      <td>btc</td>\n",
       "      <td>Bitcoin</td>\n",
       "    </tr>\n",
       "    <tr>\n",
       "      <th>3516</th>\n",
       "      <td>polkadot</td>\n",
       "      <td>dot</td>\n",
       "      <td>Polkadot</td>\n",
       "    </tr>\n",
       "    <tr>\n",
       "      <th>4039</th>\n",
       "      <td>ethereum</td>\n",
       "      <td>eth</td>\n",
       "      <td>Ethereum</td>\n",
       "    </tr>\n",
       "    <tr>\n",
       "      <th>10637</th>\n",
       "      <td>solana</td>\n",
       "      <td>sol</td>\n",
       "      <td>Solana</td>\n",
       "    </tr>\n",
       "    <tr>\n",
       "      <th>12858</th>\n",
       "      <td>ripple</td>\n",
       "      <td>xrp</td>\n",
       "      <td>XRP</td>\n",
       "    </tr>\n",
       "  </tbody>\n",
       "</table>\n",
       "</div>"
      ],
      "text/plain": [
       "             id symbol      name\n",
       "308     cardano    ada   Cardano\n",
       "1880    bitcoin    btc   Bitcoin\n",
       "3516   polkadot    dot  Polkadot\n",
       "4039   ethereum    eth  Ethereum\n",
       "10637    solana    sol    Solana\n",
       "12858    ripple    xrp       XRP"
      ]
     },
     "execution_count": 34,
     "metadata": {},
     "output_type": "execute_result"
    }
   ],
   "source": [
    "coins = ['bitcoin','ethereum','bnb','binance','xrp','cardano','solana','dodgecoin','polkadot']\n",
    "coin_df.loc[(coin_df['id']=='bitcoin')|(coin_df['id']=='ethereum')|\n",
    "            (coin_df['id']=='bnb')|(coin_df['id']=='ripple')|\n",
    "            (coin_df['id']=='cardano')|(coin_df['id']=='solana')|\n",
    "            (coin_df['id']=='doge')|(coin_df['id']=='polkadot'),:]\n",
    "# coin_df.loc[(coin_df['symbol']=='btc')|(coin_df['symbol']=='eth')|\n",
    "#             (coin_df['symbol']=='bnb')|(coin_df['symbol']=='xrp')|\n",
    "#             (coin_df['symbol']=='ada')|(coin_df['symbol']=='sol')|\n",
    "#             (coin_df['symbol']=='doge')|(coin_df['symbol']=='dot')\n",
    "#             |(coin_df['symbol']=='binance'),:]"
   ]
  },
  {
   "cell_type": "code",
   "execution_count": 36,
   "id": "c11112bf",
   "metadata": {},
   "outputs": [
    {
     "data": {
      "text/plain": [
       "{'polkadot': {'usd': 5.87},\n",
       " 'ethereum': {'usd': 1349.39},\n",
       " 'solana': {'usd': 28.62},\n",
       " 'bitcoin': {'usd': 19392.25},\n",
       " 'cardano': {'usd': 0.356515}}"
      ]
     },
     "execution_count": 36,
     "metadata": {},
     "output_type": "execute_result"
    }
   ],
   "source": [
    "counterCurrencies = CoinGeckoAPI().get_supported_vs_currencies()\n",
    "counterCurrencies\n",
    "currency = ['usd']\n",
    "simplePriceRequest = CoinGeckoAPI().get_price(ids = coins, vs_currencies = 'usd')\n",
    "simplePriceRequest"
   ]
  },
  {
   "cell_type": "code",
   "execution_count": 37,
   "id": "a2c2cfae",
   "metadata": {},
   "outputs": [
    {
     "name": "stdout",
     "output_type": "stream",
     "text": [
      "{'polkadot': {'usd': 5.87, 'usd_market_cap': 6836980256.361288, 'usd_24h_vol': 227617028.2702934, 'usd_24h_change': 0.13001634269591586, 'last_updated_at': 1666583258}, 'ethereum': {'usd': 1349.23, 'usd_market_cap': 162595858967.03848, 'usd_24h_vol': 8845903947.22309, 'usd_24h_change': 2.764292706078031, 'last_updated_at': 1666583247}, 'solana': {'usd': 28.62, 'usd_market_cap': 10256236232.39152, 'usd_24h_vol': 703226376.7576417, 'usd_24h_change': 0.7520341086838184, 'last_updated_at': 1666583249}, 'bitcoin': {'usd': 19391.05, 'usd_market_cap': 372036670113.2621, 'usd_24h_vol': 22870141203.423405, 'usd_24h_change': 1.0090360456218648, 'last_updated_at': 1666583238}, 'cardano': {'usd': 0.356585, 'usd_market_cap': 12497116368.331413, 'usd_24h_vol': 372020783.6923372, 'usd_24h_change': 0.5219797985565214, 'last_updated_at': 1666583258}}\n"
     ]
    }
   ],
   "source": [
    "marketcap_vol_change = CoinGeckoAPI().get_price(ids = coins, \n",
    "                        vs_currencies = currency, \n",
    "                        include_market_cap = True,\n",
    "                        include_24hr_vol = True,\n",
    "                        include_24hr_change = True,\n",
    "                        include_last_updated_at = True)\n",
    "print(marketcap_vol_change)"
   ]
  },
  {
   "cell_type": "code",
   "execution_count": 42,
   "id": "9f07539f",
   "metadata": {},
   "outputs": [
    {
     "data": {
      "text/html": [
       "<div>\n",
       "<style scoped>\n",
       "    .dataframe tbody tr th:only-of-type {\n",
       "        vertical-align: middle;\n",
       "    }\n",
       "\n",
       "    .dataframe tbody tr th {\n",
       "        vertical-align: top;\n",
       "    }\n",
       "\n",
       "    .dataframe thead th {\n",
       "        text-align: right;\n",
       "    }\n",
       "</style>\n",
       "<table border=\"1\" class=\"dataframe\">\n",
       "  <thead>\n",
       "    <tr style=\"text-align: right;\">\n",
       "      <th></th>\n",
       "      <th>usd</th>\n",
       "      <th>usd_market_cap</th>\n",
       "      <th>usd_24h_vol</th>\n",
       "      <th>usd_24h_change</th>\n",
       "      <th>last_updated_at</th>\n",
       "    </tr>\n",
       "  </thead>\n",
       "  <tbody>\n",
       "    <tr>\n",
       "      <th>polkadot</th>\n",
       "      <td>5.870000</td>\n",
       "      <td>6.836980e+09</td>\n",
       "      <td>2.276170e+08</td>\n",
       "      <td>0.130016</td>\n",
       "      <td>1.666583e+09</td>\n",
       "    </tr>\n",
       "    <tr>\n",
       "      <th>ethereum</th>\n",
       "      <td>1349.230000</td>\n",
       "      <td>1.625959e+11</td>\n",
       "      <td>8.845904e+09</td>\n",
       "      <td>2.764293</td>\n",
       "      <td>1.666583e+09</td>\n",
       "    </tr>\n",
       "    <tr>\n",
       "      <th>solana</th>\n",
       "      <td>28.620000</td>\n",
       "      <td>1.025624e+10</td>\n",
       "      <td>7.032264e+08</td>\n",
       "      <td>0.752034</td>\n",
       "      <td>1.666583e+09</td>\n",
       "    </tr>\n",
       "    <tr>\n",
       "      <th>bitcoin</th>\n",
       "      <td>19391.050000</td>\n",
       "      <td>3.720367e+11</td>\n",
       "      <td>2.287014e+10</td>\n",
       "      <td>1.009036</td>\n",
       "      <td>1.666583e+09</td>\n",
       "    </tr>\n",
       "    <tr>\n",
       "      <th>cardano</th>\n",
       "      <td>0.356585</td>\n",
       "      <td>1.249712e+10</td>\n",
       "      <td>3.720208e+08</td>\n",
       "      <td>0.521980</td>\n",
       "      <td>1.666583e+09</td>\n",
       "    </tr>\n",
       "  </tbody>\n",
       "</table>\n",
       "</div>"
      ],
      "text/plain": [
       "                   usd  usd_market_cap   usd_24h_vol  usd_24h_change  \\\n",
       "polkadot      5.870000    6.836980e+09  2.276170e+08        0.130016   \n",
       "ethereum   1349.230000    1.625959e+11  8.845904e+09        2.764293   \n",
       "solana       28.620000    1.025624e+10  7.032264e+08        0.752034   \n",
       "bitcoin   19391.050000    3.720367e+11  2.287014e+10        1.009036   \n",
       "cardano       0.356585    1.249712e+10  3.720208e+08        0.521980   \n",
       "\n",
       "          last_updated_at  \n",
       "polkadot     1.666583e+09  \n",
       "ethereum     1.666583e+09  \n",
       "solana       1.666583e+09  \n",
       "bitcoin      1.666583e+09  \n",
       "cardano      1.666583e+09  "
      ]
     },
     "execution_count": 42,
     "metadata": {},
     "output_type": "execute_result"
    }
   ],
   "source": [
    "#dataframe and transposed\n",
    "marketcap_vol_change_df=pd.DataFrame(marketcap_vol_change).T\n",
    "marketcap_vol_change_df"
   ]
  },
  {
   "cell_type": "code",
   "execution_count": 45,
   "id": "0fb23969",
   "metadata": {},
   "outputs": [
    {
     "name": "stdout",
     "output_type": "stream",
     "text": [
      "polkadot   2022-10-24 03:47:38\n",
      "ethereum   2022-10-24 03:47:27\n",
      "solana     2022-10-24 03:47:29\n",
      "bitcoin    2022-10-24 03:47:18\n",
      "cardano    2022-10-24 03:47:38\n",
      "Name: last_updated_at, dtype: datetime64[ns]\n"
     ]
    }
   ],
   "source": [
    "# #reformat date\n",
    "marketcap_vol_change_df['last_updated_at'] = pd.to_datetime(marketcap_vol_change_df['last_updated_at'],unit='s')\n",
    "print(marketcap_vol_change_df['last_updated_at'])"
   ]
  },
  {
   "cell_type": "code",
   "execution_count": 46,
   "id": "ed16f1f9",
   "metadata": {},
   "outputs": [
    {
     "data": {
      "text/html": [
       "<div>\n",
       "<style scoped>\n",
       "    .dataframe tbody tr th:only-of-type {\n",
       "        vertical-align: middle;\n",
       "    }\n",
       "\n",
       "    .dataframe tbody tr th {\n",
       "        vertical-align: top;\n",
       "    }\n",
       "\n",
       "    .dataframe thead th {\n",
       "        text-align: right;\n",
       "    }\n",
       "</style>\n",
       "<table border=\"1\" class=\"dataframe\">\n",
       "  <thead>\n",
       "    <tr style=\"text-align: right;\">\n",
       "      <th></th>\n",
       "      <th>usd</th>\n",
       "      <th>usd_market_cap</th>\n",
       "      <th>usd_24h_vol</th>\n",
       "      <th>usd_24h_change</th>\n",
       "      <th>last_updated_at</th>\n",
       "    </tr>\n",
       "  </thead>\n",
       "  <tbody>\n",
       "    <tr>\n",
       "      <th>polkadot</th>\n",
       "      <td>$5.87</td>\n",
       "      <td>$6,836,980,256.36</td>\n",
       "      <td>$227,617,028.27</td>\n",
       "      <td>0.130016</td>\n",
       "      <td>2022-10-24 03:47:38</td>\n",
       "    </tr>\n",
       "    <tr>\n",
       "      <th>ethereum</th>\n",
       "      <td>$1,349.23</td>\n",
       "      <td>$162,595,858,967.04</td>\n",
       "      <td>$8,845,903,947.22</td>\n",
       "      <td>2.764293</td>\n",
       "      <td>2022-10-24 03:47:27</td>\n",
       "    </tr>\n",
       "    <tr>\n",
       "      <th>solana</th>\n",
       "      <td>$28.62</td>\n",
       "      <td>$10,256,236,232.39</td>\n",
       "      <td>$703,226,376.76</td>\n",
       "      <td>0.752034</td>\n",
       "      <td>2022-10-24 03:47:29</td>\n",
       "    </tr>\n",
       "    <tr>\n",
       "      <th>bitcoin</th>\n",
       "      <td>$19,391.05</td>\n",
       "      <td>$372,036,670,113.26</td>\n",
       "      <td>$22,870,141,203.42</td>\n",
       "      <td>1.009036</td>\n",
       "      <td>2022-10-24 03:47:18</td>\n",
       "    </tr>\n",
       "    <tr>\n",
       "      <th>cardano</th>\n",
       "      <td>$0.36</td>\n",
       "      <td>$12,497,116,368.33</td>\n",
       "      <td>$372,020,783.69</td>\n",
       "      <td>0.521980</td>\n",
       "      <td>2022-10-24 03:47:38</td>\n",
       "    </tr>\n",
       "  </tbody>\n",
       "</table>\n",
       "</div>"
      ],
      "text/plain": [
       "                 usd       usd_market_cap         usd_24h_vol  usd_24h_change  \\\n",
       "polkadot       $5.87    $6,836,980,256.36     $227,617,028.27        0.130016   \n",
       "ethereum   $1,349.23  $162,595,858,967.04   $8,845,903,947.22        2.764293   \n",
       "solana        $28.62   $10,256,236,232.39     $703,226,376.76        0.752034   \n",
       "bitcoin   $19,391.05  $372,036,670,113.26  $22,870,141,203.42        1.009036   \n",
       "cardano        $0.36   $12,497,116,368.33     $372,020,783.69        0.521980   \n",
       "\n",
       "             last_updated_at  \n",
       "polkadot 2022-10-24 03:47:38  \n",
       "ethereum 2022-10-24 03:47:27  \n",
       "solana   2022-10-24 03:47:29  \n",
       "bitcoin  2022-10-24 03:47:18  \n",
       "cardano  2022-10-24 03:47:38  "
      ]
     },
     "execution_count": 46,
     "metadata": {},
     "output_type": "execute_result"
    }
   ],
   "source": [
    "#reformat volume\n",
    "marketcap_vol_change_df['usd'] = marketcap_vol_change_df['usd'].map(\"${:,.2f}\".format)\n",
    "marketcap_vol_change_df['usd_24h_vol'] = marketcap_vol_change_df['usd_24h_vol'].map(\"${:,.2f}\".format)\n",
    "marketcap_vol_change_df['usd_market_cap'] = marketcap_vol_change_df['usd_market_cap'].map(\"${:,.2f}\".format)\n",
    "marketcap_vol_change_df"
   ]
  },
  {
   "cell_type": "markdown",
   "id": "63adfab9",
   "metadata": {},
   "source": [
    "STOCK"
   ]
  },
  {
   "cell_type": "code",
   "execution_count": 68,
   "id": "cd600ba8",
   "metadata": {},
   "outputs": [
    {
     "data": {
      "text/plain": [
       "<yahooquery.ticker.Ticker at 0x7fedb02cc3d0>"
      ]
     },
     "execution_count": 68,
     "metadata": {},
     "output_type": "execute_result"
    }
   ],
   "source": [
    "# Tesla Facebook Microsoft Apple Google\n",
    "symbols = 'meta aapl msft goog tsla' \n",
    "# Make asynchronous requests\n",
    "stock_data = Ticker(symbols, asynchronous=True)\n",
    "stock_data"
   ]
  },
  {
   "cell_type": "code",
   "execution_count": 69,
   "id": "18983834",
   "metadata": {},
   "outputs": [],
   "source": [
    "# View data available through the 'Summary' tab\n",
    "summary_details = stock_data.summary_detail\n"
   ]
  },
  {
   "cell_type": "code",
   "execution_count": 81,
   "id": "9389b21e",
   "metadata": {},
   "outputs": [
    {
     "data": {
      "text/plain": [
       "Index(['maxAge', 'priceHint', 'previousClose', 'open', 'dayLow', 'dayHigh',\n",
       "       'regularMarketPreviousClose', 'regularMarketOpen',\n",
       "       'regularMarketDayLow', 'regularMarketDayHigh', 'payoutRatio', 'beta',\n",
       "       'trailingPE', 'forwardPE', 'volume', 'regularMarketVolume',\n",
       "       'averageVolume', 'averageVolume10days', 'averageDailyVolume10Day',\n",
       "       'bid', 'ask', 'bidSize', 'askSize', 'marketCap', 'fiftyTwoWeekLow',\n",
       "       'fiftyTwoWeekHigh', 'priceToSalesTrailing12Months', 'fiftyDayAverage',\n",
       "       'twoHundredDayAverage', 'trailingAnnualDividendRate',\n",
       "       'trailingAnnualDividendYield', 'currency', 'fromCurrency', 'toCurrency',\n",
       "       'lastMarket', 'coinMarketCapLink', 'algorithm', 'tradeable',\n",
       "       'dividendRate', 'dividendYield', 'exDividendDate',\n",
       "       'fiveYearAvgDividendYield'],\n",
       "      dtype='object')"
      ]
     },
     "execution_count": 81,
     "metadata": {},
     "output_type": "execute_result"
    }
   ],
   "source": [
    "#dataframe and transposed\n",
    "stock_df=pd.DataFrame(summary_details).T\n",
    "stock_df.columns\n"
   ]
  },
  {
   "cell_type": "code",
   "execution_count": 82,
   "id": "5f789f91",
   "metadata": {},
   "outputs": [
    {
     "data": {
      "text/html": [
       "<div>\n",
       "<style scoped>\n",
       "    .dataframe tbody tr th:only-of-type {\n",
       "        vertical-align: middle;\n",
       "    }\n",
       "\n",
       "    .dataframe tbody tr th {\n",
       "        vertical-align: top;\n",
       "    }\n",
       "\n",
       "    .dataframe thead th {\n",
       "        text-align: right;\n",
       "    }\n",
       "</style>\n",
       "<table border=\"1\" class=\"dataframe\">\n",
       "  <thead>\n",
       "    <tr style=\"text-align: right;\">\n",
       "      <th></th>\n",
       "      <th>open</th>\n",
       "      <th>dayLow</th>\n",
       "      <th>dayHigh</th>\n",
       "      <th>regularMarketPreviousClose</th>\n",
       "      <th>regularMarketOpen</th>\n",
       "      <th>regularMarketDayLow</th>\n",
       "      <th>regularMarketDayHigh</th>\n",
       "      <th>volume</th>\n",
       "      <th>regularMarketVolume</th>\n",
       "    </tr>\n",
       "  </thead>\n",
       "  <tbody>\n",
       "    <tr>\n",
       "      <th>goog</th>\n",
       "      <td>98.46</td>\n",
       "      <td>98.23</td>\n",
       "      <td>101.62</td>\n",
       "      <td>100.53</td>\n",
       "      <td>98.46</td>\n",
       "      <td>98.23</td>\n",
       "      <td>101.62</td>\n",
       "      <td>27862280</td>\n",
       "      <td>27862280</td>\n",
       "    </tr>\n",
       "    <tr>\n",
       "      <th>aapl</th>\n",
       "      <td>142.87</td>\n",
       "      <td>142.649</td>\n",
       "      <td>147.8473</td>\n",
       "      <td>143.39</td>\n",
       "      <td>142.87</td>\n",
       "      <td>142.649</td>\n",
       "      <td>147.8473</td>\n",
       "      <td>86548609</td>\n",
       "      <td>86548609</td>\n",
       "    </tr>\n",
       "    <tr>\n",
       "      <th>meta</th>\n",
       "      <td>126.31</td>\n",
       "      <td>125.45</td>\n",
       "      <td>130.08</td>\n",
       "      <td>131.53</td>\n",
       "      <td>126.31</td>\n",
       "      <td>125.45</td>\n",
       "      <td>130.08</td>\n",
       "      <td>43918643</td>\n",
       "      <td>43918643</td>\n",
       "    </tr>\n",
       "    <tr>\n",
       "      <th>tsla</th>\n",
       "      <td>206.415</td>\n",
       "      <td>203.81</td>\n",
       "      <td>214.66</td>\n",
       "      <td>207.28</td>\n",
       "      <td>206.415</td>\n",
       "      <td>203.81</td>\n",
       "      <td>214.66</td>\n",
       "      <td>75713754</td>\n",
       "      <td>75713754</td>\n",
       "    </tr>\n",
       "    <tr>\n",
       "      <th>msft</th>\n",
       "      <td>234.74</td>\n",
       "      <td>234.5</td>\n",
       "      <td>242.88</td>\n",
       "      <td>236.15</td>\n",
       "      <td>234.74</td>\n",
       "      <td>234.5</td>\n",
       "      <td>242.88</td>\n",
       "      <td>25235911</td>\n",
       "      <td>25235911</td>\n",
       "    </tr>\n",
       "  </tbody>\n",
       "</table>\n",
       "</div>"
      ],
      "text/plain": [
       "         open   dayLow   dayHigh regularMarketPreviousClose regularMarketOpen  \\\n",
       "goog    98.46    98.23    101.62                     100.53             98.46   \n",
       "aapl   142.87  142.649  147.8473                     143.39            142.87   \n",
       "meta   126.31   125.45    130.08                     131.53            126.31   \n",
       "tsla  206.415   203.81    214.66                     207.28           206.415   \n",
       "msft   234.74    234.5    242.88                     236.15            234.74   \n",
       "\n",
       "     regularMarketDayLow regularMarketDayHigh    volume regularMarketVolume  \n",
       "goog               98.23               101.62  27862280            27862280  \n",
       "aapl             142.649             147.8473  86548609            86548609  \n",
       "meta              125.45               130.08  43918643            43918643  \n",
       "tsla              203.81               214.66  75713754            75713754  \n",
       "msft               234.5               242.88  25235911            25235911  "
      ]
     },
     "execution_count": 82,
     "metadata": {},
     "output_type": "execute_result"
    }
   ],
   "source": [
    "#Desired columns\n",
    "columns=['open','dayLow', 'dayHigh',\n",
    "       'regularMarketPreviousClose', 'regularMarketOpen',\n",
    "       'regularMarketDayLow', 'regularMarketDayHigh','volume', 'regularMarketVolume']\n",
    "stock_df = stock_df.loc[:, columns].copy()\n",
    "stock_df"
   ]
  },
  {
   "cell_type": "code",
   "execution_count": null,
   "id": "f390cf48",
   "metadata": {},
   "outputs": [],
   "source": []
  }
 ],
 "metadata": {
  "kernelspec": {
   "display_name": "Python 3 (ipykernel)",
   "language": "python",
   "name": "python3"
  },
  "language_info": {
   "codemirror_mode": {
    "name": "ipython",
    "version": 3
   },
   "file_extension": ".py",
   "mimetype": "text/x-python",
   "name": "python",
   "nbconvert_exporter": "python",
   "pygments_lexer": "ipython3",
   "version": "3.9.12"
  }
 },
 "nbformat": 4,
 "nbformat_minor": 5
}
