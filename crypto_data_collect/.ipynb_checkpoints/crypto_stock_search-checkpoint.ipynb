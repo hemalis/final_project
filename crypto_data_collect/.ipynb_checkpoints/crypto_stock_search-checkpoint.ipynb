{
 "cells": [
  {
   "cell_type": "code",
   "execution_count": 1,
   "id": "882d2b56",
   "metadata": {},
   "outputs": [
    {
     "ename": "ModuleNotFoundError",
     "evalue": "No module named 'yahooquery'",
     "output_type": "error",
     "traceback": [
      "\u001b[0;31m---------------------------------------------------------------------------\u001b[0m",
      "\u001b[0;31mModuleNotFoundError\u001b[0m                       Traceback (most recent call last)",
      "\u001b[0;32m/var/folders/01/32b7ssj95lgfnc56qzqksjzr0000gn/T/ipykernel_58538/46414930.py\u001b[0m in \u001b[0;36m<module>\u001b[0;34m\u001b[0m\n\u001b[1;32m      8\u001b[0m \u001b[0;32mfrom\u001b[0m \u001b[0mplotly\u001b[0m\u001b[0;34m.\u001b[0m\u001b[0moffline\u001b[0m \u001b[0;32mimport\u001b[0m \u001b[0mplot\u001b[0m\u001b[0;34m\u001b[0m\u001b[0;34m\u001b[0m\u001b[0m\n\u001b[1;32m      9\u001b[0m \u001b[0;32mfrom\u001b[0m \u001b[0mpycoingecko\u001b[0m \u001b[0;32mimport\u001b[0m \u001b[0mCoinGeckoAPI\u001b[0m\u001b[0;34m\u001b[0m\u001b[0;34m\u001b[0m\u001b[0m\n\u001b[0;32m---> 10\u001b[0;31m \u001b[0;32mimport\u001b[0m \u001b[0myahooquery\u001b[0m \u001b[0;32mas\u001b[0m \u001b[0myq\u001b[0m\u001b[0;34m\u001b[0m\u001b[0;34m\u001b[0m\u001b[0m\n\u001b[0m\u001b[1;32m     11\u001b[0m \u001b[0;32mfrom\u001b[0m \u001b[0myahooquery\u001b[0m \u001b[0;32mimport\u001b[0m \u001b[0mTicker\u001b[0m\u001b[0;34m\u001b[0m\u001b[0;34m\u001b[0m\u001b[0m\n",
      "\u001b[0;31mModuleNotFoundError\u001b[0m: No module named 'yahooquery'"
     ]
    }
   ],
   "source": [
    "#pip install pycoingecko\n",
    "#pip install yahooquery\n",
    "#import modules\n",
    "import pandas as pd\n",
    "import datetime\n",
    "import time as t\n",
    "import plotly.graph_objects as go\n",
    "from plotly.offline import plot\n",
    "from pycoingecko import CoinGeckoAPI\n",
    "import yahooquery as yq\n",
    "from yahooquery import Ticker\n"
   ]
  },
  {
   "cell_type": "markdown",
   "id": "56800e3a",
   "metadata": {},
   "source": [
    "CRYPTO"
   ]
  },
  {
   "cell_type": "code",
   "execution_count": null,
   "id": "4a227be1",
   "metadata": {},
   "outputs": [],
   "source": [
    "#create a client\n",
    "cg = CoinGeckoAPI()\n",
    "#confirm connection\n",
    "CoinGeckoAPI().ping()"
   ]
  },
  {
   "cell_type": "code",
   "execution_count": null,
   "id": "81ea1d78",
   "metadata": {},
   "outputs": [],
   "source": [
    "#get a list of coins, sort df by id\n",
    "coin_list = CoinGeckoAPI().get_coins_list()\n",
    "coin_df = pd.DataFrame(coin_list).sort_values('symbol').reset_index(drop=True)\n",
    "coin_df.head()"
   ]
  },
  {
   "cell_type": "code",
   "execution_count": 2,
   "id": "665ed868",
   "metadata": {},
   "outputs": [
    {
     "ename": "NameError",
     "evalue": "name 'coin_df' is not defined",
     "output_type": "error",
     "traceback": [
      "\u001b[0;31m---------------------------------------------------------------------------\u001b[0m",
      "\u001b[0;31mNameError\u001b[0m                                 Traceback (most recent call last)",
      "\u001b[0;32m/var/folders/01/32b7ssj95lgfnc56qzqksjzr0000gn/T/ipykernel_58538/228311441.py\u001b[0m in \u001b[0;36m<module>\u001b[0;34m\u001b[0m\n\u001b[1;32m      1\u001b[0m \u001b[0mcoins\u001b[0m \u001b[0;34m=\u001b[0m \u001b[0;34m[\u001b[0m\u001b[0;34m'bitcoin'\u001b[0m\u001b[0;34m,\u001b[0m\u001b[0;34m'ethereum'\u001b[0m\u001b[0;34m,\u001b[0m\u001b[0;34m'bnb'\u001b[0m\u001b[0;34m,\u001b[0m\u001b[0;34m'binance'\u001b[0m\u001b[0;34m,\u001b[0m\u001b[0;34m'xrp'\u001b[0m\u001b[0;34m,\u001b[0m\u001b[0;34m'cardano'\u001b[0m\u001b[0;34m,\u001b[0m\u001b[0;34m'solana'\u001b[0m\u001b[0;34m,\u001b[0m\u001b[0;34m'dodgecoin'\u001b[0m\u001b[0;34m,\u001b[0m\u001b[0;34m'polkadot'\u001b[0m\u001b[0;34m]\u001b[0m\u001b[0;34m\u001b[0m\u001b[0;34m\u001b[0m\u001b[0m\n\u001b[0;32m----> 2\u001b[0;31m coin_df.loc[(coin_df['id']=='bitcoin')|(coin_df['id']=='ethereum')|\n\u001b[0m\u001b[1;32m      3\u001b[0m             \u001b[0;34m(\u001b[0m\u001b[0mcoin_df\u001b[0m\u001b[0;34m[\u001b[0m\u001b[0;34m'id'\u001b[0m\u001b[0;34m]\u001b[0m\u001b[0;34m==\u001b[0m\u001b[0;34m'bnb'\u001b[0m\u001b[0;34m)\u001b[0m\u001b[0;34m|\u001b[0m\u001b[0;34m(\u001b[0m\u001b[0mcoin_df\u001b[0m\u001b[0;34m[\u001b[0m\u001b[0;34m'id'\u001b[0m\u001b[0;34m]\u001b[0m\u001b[0;34m==\u001b[0m\u001b[0;34m'ripple'\u001b[0m\u001b[0;34m)\u001b[0m\u001b[0;34m|\u001b[0m\u001b[0;34m\u001b[0m\u001b[0;34m\u001b[0m\u001b[0m\n\u001b[1;32m      4\u001b[0m             \u001b[0;34m(\u001b[0m\u001b[0mcoin_df\u001b[0m\u001b[0;34m[\u001b[0m\u001b[0;34m'id'\u001b[0m\u001b[0;34m]\u001b[0m\u001b[0;34m==\u001b[0m\u001b[0;34m'cardano'\u001b[0m\u001b[0;34m)\u001b[0m\u001b[0;34m|\u001b[0m\u001b[0;34m(\u001b[0m\u001b[0mcoin_df\u001b[0m\u001b[0;34m[\u001b[0m\u001b[0;34m'id'\u001b[0m\u001b[0;34m]\u001b[0m\u001b[0;34m==\u001b[0m\u001b[0;34m'solana'\u001b[0m\u001b[0;34m)\u001b[0m\u001b[0;34m|\u001b[0m\u001b[0;34m\u001b[0m\u001b[0;34m\u001b[0m\u001b[0m\n\u001b[1;32m      5\u001b[0m             (coin_df['id']=='doge')|(coin_df['id']=='polkadot'),:]\n",
      "\u001b[0;31mNameError\u001b[0m: name 'coin_df' is not defined"
     ]
    }
   ],
   "source": [
    "coins = ['bitcoin','ethereum','bnb','binance','xrp','cardano','solana','dodgecoin','polkadot']\n",
    "coin_df.loc[(coin_df['id']=='bitcoin')|(coin_df['id']=='ethereum')|\n",
    "            (coin_df['id']=='bnb')|(coin_df['id']=='ripple')|\n",
    "            (coin_df['id']=='cardano')|(coin_df['id']=='solana')|\n",
    "            (coin_df['id']=='doge')|(coin_df['id']=='polkadot'),:]\n",
    "# coin_df.loc[(coin_df['symbol']=='btc')|(coin_df['symbol']=='eth')|\n",
    "#             (coin_df['symbol']=='bnb')|(coin_df['symbol']=='xrp')|\n",
    "#             (coin_df['symbol']=='ada')|(coin_df['symbol']=='sol')|\n",
    "#             (coin_df['symbol']=='doge')|(coin_df['symbol']=='dot')\n",
    "#             |(coin_df['symbol']=='binance'),:]"
   ]
  },
  {
   "cell_type": "code",
   "execution_count": 3,
   "id": "c11112bf",
   "metadata": {},
   "outputs": [
    {
     "data": {
      "text/plain": [
       "{'polkadot': {'usd': 6.43},\n",
       " 'bitcoin': {'usd': 20127},\n",
       " 'ethereum': {'usd': 1469.14},\n",
       " 'cardano': {'usd': 0.407421},\n",
       " 'solana': {'usd': 30.87}}"
      ]
     },
     "execution_count": 3,
     "metadata": {},
     "output_type": "execute_result"
    }
   ],
   "source": [
    "counterCurrencies = CoinGeckoAPI().get_supported_vs_currencies()\n",
    "counterCurrencies\n",
    "currency = ['usd']\n",
    "simplePriceRequest = CoinGeckoAPI().get_price(ids = coins, vs_currencies = 'usd')\n",
    "simplePriceRequest"
   ]
  },
  {
   "cell_type": "code",
   "execution_count": 4,
   "id": "a2c2cfae",
   "metadata": {},
   "outputs": [
    {
     "name": "stdout",
     "output_type": "stream",
     "text": [
      "{'polkadot': {'usd': 6.43, 'usd_market_cap': 7507447296.00054, 'usd_24h_vol': 419733150.96958524, 'usd_24h_change': 9.411737611847961, 'last_updated_at': 1666733380}, 'bitcoin': {'usd': 20127, 'usd_market_cap': 387157301046.46985, 'usd_24h_vol': 38295857189.22786, 'usd_24h_change': 4.056090721005025, 'last_updated_at': 1666733368}, 'ethereum': {'usd': 1469.14, 'usd_market_cap': 177694640985.9273, 'usd_24h_vol': 18538889978.26199, 'usd_24h_change': 8.992441415127525, 'last_updated_at': 1666733363}, 'cardano': {'usd': 0.407421, 'usd_market_cap': 14287058963.94198, 'usd_24h_vol': 1036613230.3691121, 'usd_24h_change': 13.604199064891626, 'last_updated_at': 1666733381}, 'solana': {'usd': 30.86, 'usd_market_cap': 11101190990.223759, 'usd_24h_vol': 1276802353.3753755, 'usd_24h_change': 8.869804938313793, 'last_updated_at': 1666733385}}\n"
     ]
    }
   ],
   "source": [
    "marketcap_vol_change = CoinGeckoAPI().get_price(ids = coins, \n",
    "                        vs_currencies = currency, \n",
    "                        include_market_cap = True,\n",
    "                        include_24hr_vol = True,\n",
    "                        include_24hr_change = True,\n",
    "                        include_last_updated_at = True)\n",
    "print(marketcap_vol_change)"
   ]
  },
  {
   "cell_type": "code",
   "execution_count": 5,
   "id": "9f07539f",
   "metadata": {},
   "outputs": [
    {
     "data": {
      "text/html": [
       "<div>\n",
       "<style scoped>\n",
       "    .dataframe tbody tr th:only-of-type {\n",
       "        vertical-align: middle;\n",
       "    }\n",
       "\n",
       "    .dataframe tbody tr th {\n",
       "        vertical-align: top;\n",
       "    }\n",
       "\n",
       "    .dataframe thead th {\n",
       "        text-align: right;\n",
       "    }\n",
       "</style>\n",
       "<table border=\"1\" class=\"dataframe\">\n",
       "  <thead>\n",
       "    <tr style=\"text-align: right;\">\n",
       "      <th></th>\n",
       "      <th>usd</th>\n",
       "      <th>usd_market_cap</th>\n",
       "      <th>usd_24h_vol</th>\n",
       "      <th>usd_24h_change</th>\n",
       "      <th>last_updated_at</th>\n",
       "    </tr>\n",
       "  </thead>\n",
       "  <tbody>\n",
       "    <tr>\n",
       "      <th>polkadot</th>\n",
       "      <td>6.430000</td>\n",
       "      <td>7.507447e+09</td>\n",
       "      <td>4.197332e+08</td>\n",
       "      <td>9.411738</td>\n",
       "      <td>1.666733e+09</td>\n",
       "    </tr>\n",
       "    <tr>\n",
       "      <th>bitcoin</th>\n",
       "      <td>20127.000000</td>\n",
       "      <td>3.871573e+11</td>\n",
       "      <td>3.829586e+10</td>\n",
       "      <td>4.056091</td>\n",
       "      <td>1.666733e+09</td>\n",
       "    </tr>\n",
       "    <tr>\n",
       "      <th>ethereum</th>\n",
       "      <td>1469.140000</td>\n",
       "      <td>1.776946e+11</td>\n",
       "      <td>1.853889e+10</td>\n",
       "      <td>8.992441</td>\n",
       "      <td>1.666733e+09</td>\n",
       "    </tr>\n",
       "    <tr>\n",
       "      <th>cardano</th>\n",
       "      <td>0.407421</td>\n",
       "      <td>1.428706e+10</td>\n",
       "      <td>1.036613e+09</td>\n",
       "      <td>13.604199</td>\n",
       "      <td>1.666733e+09</td>\n",
       "    </tr>\n",
       "    <tr>\n",
       "      <th>solana</th>\n",
       "      <td>30.860000</td>\n",
       "      <td>1.110119e+10</td>\n",
       "      <td>1.276802e+09</td>\n",
       "      <td>8.869805</td>\n",
       "      <td>1.666733e+09</td>\n",
       "    </tr>\n",
       "  </tbody>\n",
       "</table>\n",
       "</div>"
      ],
      "text/plain": [
       "                   usd  usd_market_cap   usd_24h_vol  usd_24h_change  \\\n",
       "polkadot      6.430000    7.507447e+09  4.197332e+08        9.411738   \n",
       "bitcoin   20127.000000    3.871573e+11  3.829586e+10        4.056091   \n",
       "ethereum   1469.140000    1.776946e+11  1.853889e+10        8.992441   \n",
       "cardano       0.407421    1.428706e+10  1.036613e+09       13.604199   \n",
       "solana       30.860000    1.110119e+10  1.276802e+09        8.869805   \n",
       "\n",
       "          last_updated_at  \n",
       "polkadot     1.666733e+09  \n",
       "bitcoin      1.666733e+09  \n",
       "ethereum     1.666733e+09  \n",
       "cardano      1.666733e+09  \n",
       "solana       1.666733e+09  "
      ]
     },
     "execution_count": 5,
     "metadata": {},
     "output_type": "execute_result"
    }
   ],
   "source": [
    "#dataframe and transposed\n",
    "marketcap_vol_change_df=pd.DataFrame(marketcap_vol_change).T\n",
    "marketcap_vol_change_df"
   ]
  },
  {
   "cell_type": "code",
   "execution_count": 6,
   "id": "0fb23969",
   "metadata": {},
   "outputs": [
    {
     "name": "stdout",
     "output_type": "stream",
     "text": [
      "polkadot   2022-10-25 21:29:40\n",
      "bitcoin    2022-10-25 21:29:28\n",
      "ethereum   2022-10-25 21:29:23\n",
      "cardano    2022-10-25 21:29:41\n",
      "solana     2022-10-25 21:29:45\n",
      "Name: last_updated_at, dtype: datetime64[ns]\n"
     ]
    }
   ],
   "source": [
    "# #reformat date\n",
    "marketcap_vol_change_df['last_updated_at'] = pd.to_datetime(marketcap_vol_change_df['last_updated_at'],unit='s')\n",
    "print(marketcap_vol_change_df['last_updated_at'])"
   ]
  },
  {
   "cell_type": "code",
   "execution_count": 7,
   "id": "ed16f1f9",
   "metadata": {},
   "outputs": [
    {
     "data": {
      "text/html": [
       "<div>\n",
       "<style scoped>\n",
       "    .dataframe tbody tr th:only-of-type {\n",
       "        vertical-align: middle;\n",
       "    }\n",
       "\n",
       "    .dataframe tbody tr th {\n",
       "        vertical-align: top;\n",
       "    }\n",
       "\n",
       "    .dataframe thead th {\n",
       "        text-align: right;\n",
       "    }\n",
       "</style>\n",
       "<table border=\"1\" class=\"dataframe\">\n",
       "  <thead>\n",
       "    <tr style=\"text-align: right;\">\n",
       "      <th></th>\n",
       "      <th>usd</th>\n",
       "      <th>usd_market_cap</th>\n",
       "      <th>usd_24h_vol</th>\n",
       "      <th>usd_24h_change</th>\n",
       "      <th>last_updated_at</th>\n",
       "    </tr>\n",
       "  </thead>\n",
       "  <tbody>\n",
       "    <tr>\n",
       "      <th>polkadot</th>\n",
       "      <td>$6.43</td>\n",
       "      <td>$7,507,447,296.00</td>\n",
       "      <td>$419,733,150.97</td>\n",
       "      <td>9.411738</td>\n",
       "      <td>2022-10-25 21:29:40</td>\n",
       "    </tr>\n",
       "    <tr>\n",
       "      <th>bitcoin</th>\n",
       "      <td>$20,127.00</td>\n",
       "      <td>$387,157,301,046.47</td>\n",
       "      <td>$38,295,857,189.23</td>\n",
       "      <td>4.056091</td>\n",
       "      <td>2022-10-25 21:29:28</td>\n",
       "    </tr>\n",
       "    <tr>\n",
       "      <th>ethereum</th>\n",
       "      <td>$1,469.14</td>\n",
       "      <td>$177,694,640,985.93</td>\n",
       "      <td>$18,538,889,978.26</td>\n",
       "      <td>8.992441</td>\n",
       "      <td>2022-10-25 21:29:23</td>\n",
       "    </tr>\n",
       "    <tr>\n",
       "      <th>cardano</th>\n",
       "      <td>$0.41</td>\n",
       "      <td>$14,287,058,963.94</td>\n",
       "      <td>$1,036,613,230.37</td>\n",
       "      <td>13.604199</td>\n",
       "      <td>2022-10-25 21:29:41</td>\n",
       "    </tr>\n",
       "    <tr>\n",
       "      <th>solana</th>\n",
       "      <td>$30.86</td>\n",
       "      <td>$11,101,190,990.22</td>\n",
       "      <td>$1,276,802,353.38</td>\n",
       "      <td>8.869805</td>\n",
       "      <td>2022-10-25 21:29:45</td>\n",
       "    </tr>\n",
       "  </tbody>\n",
       "</table>\n",
       "</div>"
      ],
      "text/plain": [
       "                 usd       usd_market_cap         usd_24h_vol  usd_24h_change  \\\n",
       "polkadot       $6.43    $7,507,447,296.00     $419,733,150.97        9.411738   \n",
       "bitcoin   $20,127.00  $387,157,301,046.47  $38,295,857,189.23        4.056091   \n",
       "ethereum   $1,469.14  $177,694,640,985.93  $18,538,889,978.26        8.992441   \n",
       "cardano        $0.41   $14,287,058,963.94   $1,036,613,230.37       13.604199   \n",
       "solana        $30.86   $11,101,190,990.22   $1,276,802,353.38        8.869805   \n",
       "\n",
       "             last_updated_at  \n",
       "polkadot 2022-10-25 21:29:40  \n",
       "bitcoin  2022-10-25 21:29:28  \n",
       "ethereum 2022-10-25 21:29:23  \n",
       "cardano  2022-10-25 21:29:41  \n",
       "solana   2022-10-25 21:29:45  "
      ]
     },
     "execution_count": 7,
     "metadata": {},
     "output_type": "execute_result"
    }
   ],
   "source": [
    "#reformat volume\n",
    "marketcap_vol_change_df['usd'] = marketcap_vol_change_df['usd'].map(\"${:,.2f}\".format)\n",
    "marketcap_vol_change_df['usd_24h_vol'] = marketcap_vol_change_df['usd_24h_vol'].map(\"${:,.2f}\".format)\n",
    "marketcap_vol_change_df['usd_market_cap'] = marketcap_vol_change_df['usd_market_cap'].map(\"${:,.2f}\".format)\n",
    "marketcap_vol_change_df"
   ]
  },
  {
   "cell_type": "markdown",
   "id": "63adfab9",
   "metadata": {},
   "source": [
    "STOCK"
   ]
  },
  {
   "cell_type": "code",
   "execution_count": 8,
   "id": "cd600ba8",
   "metadata": {},
   "outputs": [
    {
     "ename": "NameError",
     "evalue": "name 'Ticker' is not defined",
     "output_type": "error",
     "traceback": [
      "\u001b[0;31m---------------------------------------------------------------------------\u001b[0m",
      "\u001b[0;31mNameError\u001b[0m                                 Traceback (most recent call last)",
      "\u001b[0;32m/var/folders/01/32b7ssj95lgfnc56qzqksjzr0000gn/T/ipykernel_58538/3647223797.py\u001b[0m in \u001b[0;36m<module>\u001b[0;34m\u001b[0m\n\u001b[1;32m      2\u001b[0m \u001b[0msymbols\u001b[0m \u001b[0;34m=\u001b[0m \u001b[0;34m'meta aapl msft goog tsla'\u001b[0m\u001b[0;34m\u001b[0m\u001b[0;34m\u001b[0m\u001b[0m\n\u001b[1;32m      3\u001b[0m \u001b[0;31m# Make asynchronous requests\u001b[0m\u001b[0;34m\u001b[0m\u001b[0;34m\u001b[0m\u001b[0;34m\u001b[0m\u001b[0m\n\u001b[0;32m----> 4\u001b[0;31m \u001b[0mstock_data\u001b[0m \u001b[0;34m=\u001b[0m \u001b[0mTicker\u001b[0m\u001b[0;34m(\u001b[0m\u001b[0msymbols\u001b[0m\u001b[0;34m,\u001b[0m \u001b[0masynchronous\u001b[0m\u001b[0;34m=\u001b[0m\u001b[0;32mTrue\u001b[0m\u001b[0;34m)\u001b[0m\u001b[0;34m\u001b[0m\u001b[0;34m\u001b[0m\u001b[0m\n\u001b[0m\u001b[1;32m      5\u001b[0m \u001b[0mstock_data\u001b[0m\u001b[0;34m\u001b[0m\u001b[0;34m\u001b[0m\u001b[0m\n",
      "\u001b[0;31mNameError\u001b[0m: name 'Ticker' is not defined"
     ]
    }
   ],
   "source": [
    "# Tesla Facebook Microsoft Apple Google\n",
    "symbols = 'meta aapl msft goog tsla' \n",
    "# Make asynchronous requests\n",
    "stock_data = Ticker(symbols, asynchronous=True)\n",
    "stock_data"
   ]
  },
  {
   "cell_type": "code",
   "execution_count": null,
   "id": "18983834",
   "metadata": {},
   "outputs": [],
   "source": [
    "# View data available through the 'Summary' tab\n",
    "summary_details = stock_data.summary_detail\n"
   ]
  },
  {
   "cell_type": "code",
   "execution_count": null,
   "id": "9389b21e",
   "metadata": {},
   "outputs": [],
   "source": [
    "#dataframe and transposed\n",
    "stock_df=pd.DataFrame(summary_details).T\n",
    "stock_df.columns\n"
   ]
  },
  {
   "cell_type": "code",
   "execution_count": 82,
   "id": "5f789f91",
   "metadata": {},
   "outputs": [
    {
     "data": {
      "text/html": [
       "<div>\n",
       "<style scoped>\n",
       "    .dataframe tbody tr th:only-of-type {\n",
       "        vertical-align: middle;\n",
       "    }\n",
       "\n",
       "    .dataframe tbody tr th {\n",
       "        vertical-align: top;\n",
       "    }\n",
       "\n",
       "    .dataframe thead th {\n",
       "        text-align: right;\n",
       "    }\n",
       "</style>\n",
       "<table border=\"1\" class=\"dataframe\">\n",
       "  <thead>\n",
       "    <tr style=\"text-align: right;\">\n",
       "      <th></th>\n",
       "      <th>open</th>\n",
       "      <th>dayLow</th>\n",
       "      <th>dayHigh</th>\n",
       "      <th>regularMarketPreviousClose</th>\n",
       "      <th>regularMarketOpen</th>\n",
       "      <th>regularMarketDayLow</th>\n",
       "      <th>regularMarketDayHigh</th>\n",
       "      <th>volume</th>\n",
       "      <th>regularMarketVolume</th>\n",
       "    </tr>\n",
       "  </thead>\n",
       "  <tbody>\n",
       "    <tr>\n",
       "      <th>goog</th>\n",
       "      <td>98.46</td>\n",
       "      <td>98.23</td>\n",
       "      <td>101.62</td>\n",
       "      <td>100.53</td>\n",
       "      <td>98.46</td>\n",
       "      <td>98.23</td>\n",
       "      <td>101.62</td>\n",
       "      <td>27862280</td>\n",
       "      <td>27862280</td>\n",
       "    </tr>\n",
       "    <tr>\n",
       "      <th>aapl</th>\n",
       "      <td>142.87</td>\n",
       "      <td>142.649</td>\n",
       "      <td>147.8473</td>\n",
       "      <td>143.39</td>\n",
       "      <td>142.87</td>\n",
       "      <td>142.649</td>\n",
       "      <td>147.8473</td>\n",
       "      <td>86548609</td>\n",
       "      <td>86548609</td>\n",
       "    </tr>\n",
       "    <tr>\n",
       "      <th>meta</th>\n",
       "      <td>126.31</td>\n",
       "      <td>125.45</td>\n",
       "      <td>130.08</td>\n",
       "      <td>131.53</td>\n",
       "      <td>126.31</td>\n",
       "      <td>125.45</td>\n",
       "      <td>130.08</td>\n",
       "      <td>43918643</td>\n",
       "      <td>43918643</td>\n",
       "    </tr>\n",
       "    <tr>\n",
       "      <th>tsla</th>\n",
       "      <td>206.415</td>\n",
       "      <td>203.81</td>\n",
       "      <td>214.66</td>\n",
       "      <td>207.28</td>\n",
       "      <td>206.415</td>\n",
       "      <td>203.81</td>\n",
       "      <td>214.66</td>\n",
       "      <td>75713754</td>\n",
       "      <td>75713754</td>\n",
       "    </tr>\n",
       "    <tr>\n",
       "      <th>msft</th>\n",
       "      <td>234.74</td>\n",
       "      <td>234.5</td>\n",
       "      <td>242.88</td>\n",
       "      <td>236.15</td>\n",
       "      <td>234.74</td>\n",
       "      <td>234.5</td>\n",
       "      <td>242.88</td>\n",
       "      <td>25235911</td>\n",
       "      <td>25235911</td>\n",
       "    </tr>\n",
       "  </tbody>\n",
       "</table>\n",
       "</div>"
      ],
      "text/plain": [
       "         open   dayLow   dayHigh regularMarketPreviousClose regularMarketOpen  \\\n",
       "goog    98.46    98.23    101.62                     100.53             98.46   \n",
       "aapl   142.87  142.649  147.8473                     143.39            142.87   \n",
       "meta   126.31   125.45    130.08                     131.53            126.31   \n",
       "tsla  206.415   203.81    214.66                     207.28           206.415   \n",
       "msft   234.74    234.5    242.88                     236.15            234.74   \n",
       "\n",
       "     regularMarketDayLow regularMarketDayHigh    volume regularMarketVolume  \n",
       "goog               98.23               101.62  27862280            27862280  \n",
       "aapl             142.649             147.8473  86548609            86548609  \n",
       "meta              125.45               130.08  43918643            43918643  \n",
       "tsla              203.81               214.66  75713754            75713754  \n",
       "msft               234.5               242.88  25235911            25235911  "
      ]
     },
     "execution_count": 82,
     "metadata": {},
     "output_type": "execute_result"
    }
   ],
   "source": [
    "#Desired columns\n",
    "columns=['open','dayLow', 'dayHigh',\n",
    "       'regularMarketPreviousClose', 'regularMarketOpen',\n",
    "       'regularMarketDayLow', 'regularMarketDayHigh','volume', 'regularMarketVolume']\n",
    "stock_df = stock_df.loc[:, columns].copy()\n",
    "stock_df"
   ]
  },
  {
   "cell_type": "code",
   "execution_count": null,
   "id": "f390cf48",
   "metadata": {},
   "outputs": [],
   "source": []
  }
 ],
 "metadata": {
  "kernelspec": {
   "display_name": "Python 3 (ipykernel)",
   "language": "python",
   "name": "python3"
  },
  "language_info": {
   "codemirror_mode": {
    "name": "ipython",
    "version": 3
   },
   "file_extension": ".py",
   "mimetype": "text/x-python",
   "name": "python",
   "nbconvert_exporter": "python",
   "pygments_lexer": "ipython3",
   "version": "3.7.13"
  }
 },
 "nbformat": 4,
 "nbformat_minor": 5
}
