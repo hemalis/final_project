{
 "cells": [
  {
   "cell_type": "code",
   "execution_count": 24,
   "id": "882d2b56",
   "metadata": {},
   "outputs": [],
   "source": [
    "#pip install pycoingecko\n",
    "#pip install yahooquery\n",
    "#import modules\n",
    "import pandas as pd\n",
    "import datetime\n",
    "import time as t\n",
    "import plotly.graph_objects as go\n",
    "from plotly.offline import plot\n",
    "from pycoingecko import CoinGeckoAPI\n",
    "import yahooquery as yq\n",
    "from yahooquery import Ticker\n"
   ]
  },
  {
   "cell_type": "markdown",
   "id": "56800e3a",
   "metadata": {},
   "source": [
    "CRYPTO"
   ]
  },
  {
   "cell_type": "code",
   "execution_count": 25,
   "id": "4a227be1",
   "metadata": {},
   "outputs": [
    {
     "data": {
      "text/plain": [
       "{'gecko_says': '(V3) To the Moon!'}"
      ]
     },
     "execution_count": 25,
     "metadata": {},
     "output_type": "execute_result"
    }
   ],
   "source": [
    "#create a client\n",
    "cg = CoinGeckoAPI()\n",
    "#confirm connection\n",
    "CoinGeckoAPI().ping()"
   ]
  },
  {
   "cell_type": "code",
   "execution_count": 29,
   "id": "81ea1d78",
   "metadata": {},
   "outputs": [
    {
     "data": {
      "text/html": [
       "<div>\n",
       "<style scoped>\n",
       "    .dataframe tbody tr th:only-of-type {\n",
       "        vertical-align: middle;\n",
       "    }\n",
       "\n",
       "    .dataframe tbody tr th {\n",
       "        vertical-align: top;\n",
       "    }\n",
       "\n",
       "    .dataframe thead th {\n",
       "        text-align: right;\n",
       "    }\n",
       "</style>\n",
       "<table border=\"1\" class=\"dataframe\">\n",
       "  <thead>\n",
       "    <tr style=\"text-align: right;\">\n",
       "      <th></th>\n",
       "      <th>id</th>\n",
       "      <th>symbol</th>\n",
       "      <th>name</th>\n",
       "    </tr>\n",
       "  </thead>\n",
       "  <tbody>\n",
       "    <tr>\n",
       "      <th>0</th>\n",
       "      <td>arabian-doge</td>\n",
       "      <td>$adoge</td>\n",
       "      <td>Arabian Doge</td>\n",
       "    </tr>\n",
       "    <tr>\n",
       "      <th>1</th>\n",
       "      <td>alkimi</td>\n",
       "      <td>$ads</td>\n",
       "      <td>Alkimi</td>\n",
       "    </tr>\n",
       "    <tr>\n",
       "      <th>2</th>\n",
       "      <td>aurora-token</td>\n",
       "      <td>$adtx</td>\n",
       "      <td>Aurora Dimension</td>\n",
       "    </tr>\n",
       "    <tr>\n",
       "      <th>3</th>\n",
       "      <td>alpha-nodes</td>\n",
       "      <td>$alpha</td>\n",
       "      <td>Alpha Shares</td>\n",
       "    </tr>\n",
       "    <tr>\n",
       "      <th>4</th>\n",
       "      <td>alpha-labz</td>\n",
       "      <td>$alpha</td>\n",
       "      <td>Alpha Labz</td>\n",
       "    </tr>\n",
       "  </tbody>\n",
       "</table>\n",
       "</div>"
      ],
      "text/plain": [
       "             id  symbol              name\n",
       "0  arabian-doge  $adoge      Arabian Doge\n",
       "1        alkimi    $ads            Alkimi\n",
       "2  aurora-token   $adtx  Aurora Dimension\n",
       "3   alpha-nodes  $alpha      Alpha Shares\n",
       "4    alpha-labz  $alpha        Alpha Labz"
      ]
     },
     "execution_count": 29,
     "metadata": {},
     "output_type": "execute_result"
    }
   ],
   "source": [
    "#get a list of coins, sort df by id\n",
    "coin_list = CoinGeckoAPI().get_coins_list()\n",
    "coin_df = pd.DataFrame(coin_list).sort_values('symbol').reset_index(drop=True)\n",
    "coin_df.head()\n"
   ]
  },
  {
   "cell_type": "code",
   "execution_count": 18,
   "id": "665ed868",
   "metadata": {},
   "outputs": [
    {
     "data": {
      "text/html": [
       "<div>\n",
       "<style scoped>\n",
       "    .dataframe tbody tr th:only-of-type {\n",
       "        vertical-align: middle;\n",
       "    }\n",
       "\n",
       "    .dataframe tbody tr th {\n",
       "        vertical-align: top;\n",
       "    }\n",
       "\n",
       "    .dataframe thead th {\n",
       "        text-align: right;\n",
       "    }\n",
       "</style>\n",
       "<table border=\"1\" class=\"dataframe\">\n",
       "  <thead>\n",
       "    <tr style=\"text-align: right;\">\n",
       "      <th></th>\n",
       "      <th>id</th>\n",
       "      <th>symbol</th>\n",
       "      <th>name</th>\n",
       "    </tr>\n",
       "  </thead>\n",
       "  <tbody>\n",
       "    <tr>\n",
       "      <th>308</th>\n",
       "      <td>cardano</td>\n",
       "      <td>ada</td>\n",
       "      <td>Cardano</td>\n",
       "    </tr>\n",
       "    <tr>\n",
       "      <th>1883</th>\n",
       "      <td>bitcoin</td>\n",
       "      <td>btc</td>\n",
       "      <td>Bitcoin</td>\n",
       "    </tr>\n",
       "    <tr>\n",
       "      <th>3515</th>\n",
       "      <td>polkadot</td>\n",
       "      <td>dot</td>\n",
       "      <td>Polkadot</td>\n",
       "    </tr>\n",
       "    <tr>\n",
       "      <th>4037</th>\n",
       "      <td>ethereum</td>\n",
       "      <td>eth</td>\n",
       "      <td>Ethereum</td>\n",
       "    </tr>\n",
       "    <tr>\n",
       "      <th>10636</th>\n",
       "      <td>solana</td>\n",
       "      <td>sol</td>\n",
       "      <td>Solana</td>\n",
       "    </tr>\n",
       "    <tr>\n",
       "      <th>12859</th>\n",
       "      <td>ripple</td>\n",
       "      <td>xrp</td>\n",
       "      <td>XRP</td>\n",
       "    </tr>\n",
       "  </tbody>\n",
       "</table>\n",
       "</div>"
      ],
      "text/plain": [
       "             id symbol      name\n",
       "308     cardano    ada   Cardano\n",
       "1883    bitcoin    btc   Bitcoin\n",
       "3515   polkadot    dot  Polkadot\n",
       "4037   ethereum    eth  Ethereum\n",
       "10636    solana    sol    Solana\n",
       "12859    ripple    xrp       XRP"
      ]
     },
     "execution_count": 18,
     "metadata": {},
     "output_type": "execute_result"
    }
   ],
   "source": [
    "coins = ['bitcoin','ethereum','bnb','binance','xrp','cardano','solana','dodgecoin','polkadot']\n",
    "coin_df.loc[(coin_df['id']=='bitcoin')|(coin_df['id']=='ethereum')|\n",
    "            (coin_df['id']=='bnb')|(coin_df['id']=='ripple')|\n",
    "            (coin_df['id']=='cardano')|(coin_df['id']=='solana')|\n",
    "            (coin_df['id']=='doge')|(coin_df['id']=='polkadot'),:]\n",
    "# coin_df.loc[(coin_df['symbol']=='btc')|(coin_df['symbol']=='eth')|\n",
    "#             (coin_df['symbol']=='bnb')|(coin_df['symbol']=='xrp')|\n",
    "#             (coin_df['symbol']=='ada')|(coin_df['symbol']=='sol')|\n",
    "#             (coin_df['symbol']=='doge')|(coin_df['symbol']=='dot')\n",
    "#             |(coin_df['symbol']=='binance'),:]"
   ]
  },
  {
   "cell_type": "code",
   "execution_count": 32,
   "id": "c11112bf",
   "metadata": {},
   "outputs": [
    {
     "data": {
      "text/plain": [
       "{'ethereum': {'usd': 1460.81},\n",
       " 'polkadot': {'usd': 6.44},\n",
       " 'bitcoin': {'usd': 20086},\n",
       " 'solana': {'usd': 30.86},\n",
       " 'cardano': {'usd': 0.40333}}"
      ]
     },
     "execution_count": 32,
     "metadata": {},
     "output_type": "execute_result"
    }
   ],
   "source": [
    "counterCurrencies = CoinGeckoAPI().get_supported_vs_currencies()\n",
    "counterCurrencies\n",
    "currency = ['usd']\n",
    "simplePriceRequest = CoinGeckoAPI().get_price(ids = coins, vs_currencies = 'usd')\n",
    "simplePriceRequest"
   ]
  },
  {
   "cell_type": "code",
   "execution_count": 34,
   "id": "a2c2cfae",
   "metadata": {},
   "outputs": [
    {
     "name": "stdout",
     "output_type": "stream",
     "text": [
      "{'ethereum': {'usd': 1460.63, 'usd_market_cap': 176060600007.30322, 'usd_24h_vol': 19530922529.05801, 'usd_24h_change': 8.668506136169057, 'last_updated_at': 1666740931}, 'cardano': {'usd': 0.403443, 'usd_market_cap': 14138049287.662968, 'usd_24h_vol': 1136200786.5791554, 'usd_24h_change': 12.663399256154579, 'last_updated_at': 1666740896}, 'polkadot': {'usd': 6.44, 'usd_market_cap': 7504709814.870385, 'usd_24h_vol': 425129956.1988373, 'usd_24h_change': 8.949876851269565, 'last_updated_at': 1666740928}, 'bitcoin': {'usd': 20087, 'usd_market_cap': 385493628952.0928, 'usd_24h_vol': 39619582458.49298, 'usd_24h_change': 3.8609828249013427, 'last_updated_at': 1666740894}, 'solana': {'usd': 30.85, 'usd_market_cap': 11062515274.129694, 'usd_24h_vol': 1336149340.9734569, 'usd_24h_change': 8.936342708526212, 'last_updated_at': 1666740914}}\n"
     ]
    }
   ],
   "source": [
    "marketcap_vol_change = CoinGeckoAPI().get_price(ids = coins, \n",
    "                        vs_currencies = currency, \n",
    "                        include_market_cap = True,\n",
    "                        include_24hr_vol = True,\n",
    "                        include_24hr_change = True,\n",
    "                        include_last_updated_at = True)\n",
    "print(marketcap_vol_change)"
   ]
  },
  {
   "cell_type": "code",
   "execution_count": 5,
   "id": "9f07539f",
   "metadata": {},
   "outputs": [
    {
     "data": {
      "text/html": [
       "<div>\n",
       "<style scoped>\n",
       "    .dataframe tbody tr th:only-of-type {\n",
       "        vertical-align: middle;\n",
       "    }\n",
       "\n",
       "    .dataframe tbody tr th {\n",
       "        vertical-align: top;\n",
       "    }\n",
       "\n",
       "    .dataframe thead th {\n",
       "        text-align: right;\n",
       "    }\n",
       "</style>\n",
       "<table border=\"1\" class=\"dataframe\">\n",
       "  <thead>\n",
       "    <tr style=\"text-align: right;\">\n",
       "      <th></th>\n",
       "      <th>usd</th>\n",
       "      <th>usd_market_cap</th>\n",
       "      <th>usd_24h_vol</th>\n",
       "      <th>usd_24h_change</th>\n",
       "      <th>last_updated_at</th>\n",
       "    </tr>\n",
       "  </thead>\n",
       "  <tbody>\n",
       "    <tr>\n",
       "      <th>polkadot</th>\n",
       "      <td>6.430000</td>\n",
       "      <td>7.507447e+09</td>\n",
       "      <td>4.197332e+08</td>\n",
       "      <td>9.411738</td>\n",
       "      <td>1.666733e+09</td>\n",
       "    </tr>\n",
       "    <tr>\n",
       "      <th>bitcoin</th>\n",
       "      <td>20127.000000</td>\n",
       "      <td>3.871573e+11</td>\n",
       "      <td>3.829586e+10</td>\n",
       "      <td>4.056091</td>\n",
       "      <td>1.666733e+09</td>\n",
       "    </tr>\n",
       "    <tr>\n",
       "      <th>ethereum</th>\n",
       "      <td>1469.140000</td>\n",
       "      <td>1.776946e+11</td>\n",
       "      <td>1.853889e+10</td>\n",
       "      <td>8.992441</td>\n",
       "      <td>1.666733e+09</td>\n",
       "    </tr>\n",
       "    <tr>\n",
       "      <th>cardano</th>\n",
       "      <td>0.407421</td>\n",
       "      <td>1.428706e+10</td>\n",
       "      <td>1.036613e+09</td>\n",
       "      <td>13.604199</td>\n",
       "      <td>1.666733e+09</td>\n",
       "    </tr>\n",
       "    <tr>\n",
       "      <th>solana</th>\n",
       "      <td>30.860000</td>\n",
       "      <td>1.110119e+10</td>\n",
       "      <td>1.276802e+09</td>\n",
       "      <td>8.869805</td>\n",
       "      <td>1.666733e+09</td>\n",
       "    </tr>\n",
       "  </tbody>\n",
       "</table>\n",
       "</div>"
      ],
      "text/plain": [
       "                   usd  usd_market_cap   usd_24h_vol  usd_24h_change  \\\n",
       "polkadot      6.430000    7.507447e+09  4.197332e+08        9.411738   \n",
       "bitcoin   20127.000000    3.871573e+11  3.829586e+10        4.056091   \n",
       "ethereum   1469.140000    1.776946e+11  1.853889e+10        8.992441   \n",
       "cardano       0.407421    1.428706e+10  1.036613e+09       13.604199   \n",
       "solana       30.860000    1.110119e+10  1.276802e+09        8.869805   \n",
       "\n",
       "          last_updated_at  \n",
       "polkadot     1.666733e+09  \n",
       "bitcoin      1.666733e+09  \n",
       "ethereum     1.666733e+09  \n",
       "cardano      1.666733e+09  \n",
       "solana       1.666733e+09  "
      ]
     },
     "execution_count": 5,
     "metadata": {},
     "output_type": "execute_result"
    }
   ],
   "source": [
    "#dataframe and transposed\n",
    "marketcap_vol_change_df=pd.DataFrame(marketcap_vol_change).T\n",
    "marketcap_vol_change_df"
   ]
  },
  {
   "cell_type": "code",
   "execution_count": 6,
   "id": "0fb23969",
   "metadata": {},
   "outputs": [
    {
     "name": "stdout",
     "output_type": "stream",
     "text": [
      "polkadot   2022-10-25 21:29:40\n",
      "bitcoin    2022-10-25 21:29:28\n",
      "ethereum   2022-10-25 21:29:23\n",
      "cardano    2022-10-25 21:29:41\n",
      "solana     2022-10-25 21:29:45\n",
      "Name: last_updated_at, dtype: datetime64[ns]\n"
     ]
    }
   ],
   "source": [
    "# #reformat date\n",
    "marketcap_vol_change_df['last_updated_at'] = pd.to_datetime(marketcap_vol_change_df['last_updated_at'],unit='s')\n",
    "print(marketcap_vol_change_df['last_updated_at'])"
   ]
  },
  {
   "cell_type": "code",
   "execution_count": 7,
   "id": "ed16f1f9",
   "metadata": {},
   "outputs": [
    {
     "data": {
      "text/html": [
       "<div>\n",
       "<style scoped>\n",
       "    .dataframe tbody tr th:only-of-type {\n",
       "        vertical-align: middle;\n",
       "    }\n",
       "\n",
       "    .dataframe tbody tr th {\n",
       "        vertical-align: top;\n",
       "    }\n",
       "\n",
       "    .dataframe thead th {\n",
       "        text-align: right;\n",
       "    }\n",
       "</style>\n",
       "<table border=\"1\" class=\"dataframe\">\n",
       "  <thead>\n",
       "    <tr style=\"text-align: right;\">\n",
       "      <th></th>\n",
       "      <th>usd</th>\n",
       "      <th>usd_market_cap</th>\n",
       "      <th>usd_24h_vol</th>\n",
       "      <th>usd_24h_change</th>\n",
       "      <th>last_updated_at</th>\n",
       "    </tr>\n",
       "  </thead>\n",
       "  <tbody>\n",
       "    <tr>\n",
       "      <th>polkadot</th>\n",
       "      <td>$6.43</td>\n",
       "      <td>$7,507,447,296.00</td>\n",
       "      <td>$419,733,150.97</td>\n",
       "      <td>9.411738</td>\n",
       "      <td>2022-10-25 21:29:40</td>\n",
       "    </tr>\n",
       "    <tr>\n",
       "      <th>bitcoin</th>\n",
       "      <td>$20,127.00</td>\n",
       "      <td>$387,157,301,046.47</td>\n",
       "      <td>$38,295,857,189.23</td>\n",
       "      <td>4.056091</td>\n",
       "      <td>2022-10-25 21:29:28</td>\n",
       "    </tr>\n",
       "    <tr>\n",
       "      <th>ethereum</th>\n",
       "      <td>$1,469.14</td>\n",
       "      <td>$177,694,640,985.93</td>\n",
       "      <td>$18,538,889,978.26</td>\n",
       "      <td>8.992441</td>\n",
       "      <td>2022-10-25 21:29:23</td>\n",
       "    </tr>\n",
       "    <tr>\n",
       "      <th>cardano</th>\n",
       "      <td>$0.41</td>\n",
       "      <td>$14,287,058,963.94</td>\n",
       "      <td>$1,036,613,230.37</td>\n",
       "      <td>13.604199</td>\n",
       "      <td>2022-10-25 21:29:41</td>\n",
       "    </tr>\n",
       "    <tr>\n",
       "      <th>solana</th>\n",
       "      <td>$30.86</td>\n",
       "      <td>$11,101,190,990.22</td>\n",
       "      <td>$1,276,802,353.38</td>\n",
       "      <td>8.869805</td>\n",
       "      <td>2022-10-25 21:29:45</td>\n",
       "    </tr>\n",
       "  </tbody>\n",
       "</table>\n",
       "</div>"
      ],
      "text/plain": [
       "                 usd       usd_market_cap         usd_24h_vol  usd_24h_change  \\\n",
       "polkadot       $6.43    $7,507,447,296.00     $419,733,150.97        9.411738   \n",
       "bitcoin   $20,127.00  $387,157,301,046.47  $38,295,857,189.23        4.056091   \n",
       "ethereum   $1,469.14  $177,694,640,985.93  $18,538,889,978.26        8.992441   \n",
       "cardano        $0.41   $14,287,058,963.94   $1,036,613,230.37       13.604199   \n",
       "solana        $30.86   $11,101,190,990.22   $1,276,802,353.38        8.869805   \n",
       "\n",
       "             last_updated_at  \n",
       "polkadot 2022-10-25 21:29:40  \n",
       "bitcoin  2022-10-25 21:29:28  \n",
       "ethereum 2022-10-25 21:29:23  \n",
       "cardano  2022-10-25 21:29:41  \n",
       "solana   2022-10-25 21:29:45  "
      ]
     },
     "execution_count": 7,
     "metadata": {},
     "output_type": "execute_result"
    }
   ],
   "source": [
    "#reformat volume\n",
    "marketcap_vol_change_df['usd'] = marketcap_vol_change_df['usd'].map(\"${:,.2f}\".format)\n",
    "marketcap_vol_change_df['usd_24h_vol'] = marketcap_vol_change_df['usd_24h_vol'].map(\"${:,.2f}\".format)\n",
    "marketcap_vol_change_df['usd_market_cap'] = marketcap_vol_change_df['usd_market_cap'].map(\"${:,.2f}\".format)\n",
    "marketcap_vol_change_df"
   ]
  },
  {
   "cell_type": "markdown",
   "id": "63adfab9",
   "metadata": {},
   "source": [
    "STOCK"
   ]
  },
  {
   "cell_type": "code",
   "execution_count": 8,
   "id": "cd600ba8",
   "metadata": {},
   "outputs": [
    {
     "ename": "NameError",
     "evalue": "name 'Ticker' is not defined",
     "output_type": "error",
     "traceback": [
      "\u001b[0;31m---------------------------------------------------------------------------\u001b[0m",
      "\u001b[0;31mNameError\u001b[0m                                 Traceback (most recent call last)",
      "\u001b[0;32m/var/folders/01/32b7ssj95lgfnc56qzqksjzr0000gn/T/ipykernel_58538/3647223797.py\u001b[0m in \u001b[0;36m<module>\u001b[0;34m\u001b[0m\n\u001b[1;32m      2\u001b[0m \u001b[0msymbols\u001b[0m \u001b[0;34m=\u001b[0m \u001b[0;34m'meta aapl msft goog tsla'\u001b[0m\u001b[0;34m\u001b[0m\u001b[0;34m\u001b[0m\u001b[0m\n\u001b[1;32m      3\u001b[0m \u001b[0;31m# Make asynchronous requests\u001b[0m\u001b[0;34m\u001b[0m\u001b[0;34m\u001b[0m\u001b[0;34m\u001b[0m\u001b[0m\n\u001b[0;32m----> 4\u001b[0;31m \u001b[0mstock_data\u001b[0m \u001b[0;34m=\u001b[0m \u001b[0mTicker\u001b[0m\u001b[0;34m(\u001b[0m\u001b[0msymbols\u001b[0m\u001b[0;34m,\u001b[0m \u001b[0masynchronous\u001b[0m\u001b[0;34m=\u001b[0m\u001b[0;32mTrue\u001b[0m\u001b[0;34m)\u001b[0m\u001b[0;34m\u001b[0m\u001b[0;34m\u001b[0m\u001b[0m\n\u001b[0m\u001b[1;32m      5\u001b[0m \u001b[0mstock_data\u001b[0m\u001b[0;34m\u001b[0m\u001b[0;34m\u001b[0m\u001b[0m\n",
      "\u001b[0;31mNameError\u001b[0m: name 'Ticker' is not defined"
     ]
    }
   ],
   "source": [
    "# Tesla Facebook Microsoft Apple Google\n",
    "symbols = 'meta aapl msft goog tsla' \n",
    "# Make asynchronous requests\n",
    "stock_data = Ticker(symbols, asynchronous=True)\n",
    "stock_data"
   ]
  },
  {
   "cell_type": "code",
   "execution_count": 21,
   "id": "18983834",
   "metadata": {},
   "outputs": [
    {
     "ename": "NameError",
     "evalue": "name 'stock_data' is not defined",
     "output_type": "error",
     "traceback": [
      "\u001b[0;31m---------------------------------------------------------------------------\u001b[0m",
      "\u001b[0;31mNameError\u001b[0m                                 Traceback (most recent call last)",
      "\u001b[0;32m/var/folders/01/32b7ssj95lgfnc56qzqksjzr0000gn/T/ipykernel_58538/2323349297.py\u001b[0m in \u001b[0;36m<module>\u001b[0;34m\u001b[0m\n\u001b[1;32m      1\u001b[0m \u001b[0;31m# View data available through the 'Summary' tab\u001b[0m\u001b[0;34m\u001b[0m\u001b[0;34m\u001b[0m\u001b[0;34m\u001b[0m\u001b[0m\n\u001b[0;32m----> 2\u001b[0;31m \u001b[0msummary_details\u001b[0m \u001b[0;34m=\u001b[0m \u001b[0mstock_data\u001b[0m\u001b[0;34m.\u001b[0m\u001b[0msummary_detail\u001b[0m\u001b[0;34m\u001b[0m\u001b[0;34m\u001b[0m\u001b[0m\n\u001b[0m",
      "\u001b[0;31mNameError\u001b[0m: name 'stock_data' is not defined"
     ]
    }
   ],
   "source": [
    "# View data available through the 'Summary' tab\n",
    "summary_details = stock_data.summary_detail\n"
   ]
  },
  {
   "cell_type": "code",
   "execution_count": 20,
   "id": "9389b21e",
   "metadata": {},
   "outputs": [
    {
     "ename": "NameError",
     "evalue": "name 'summary_details' is not defined",
     "output_type": "error",
     "traceback": [
      "\u001b[0;31m---------------------------------------------------------------------------\u001b[0m",
      "\u001b[0;31mNameError\u001b[0m                                 Traceback (most recent call last)",
      "\u001b[0;32m/var/folders/01/32b7ssj95lgfnc56qzqksjzr0000gn/T/ipykernel_58538/2646432437.py\u001b[0m in \u001b[0;36m<module>\u001b[0;34m\u001b[0m\n\u001b[1;32m      1\u001b[0m \u001b[0;31m#dataframe and transposed\u001b[0m\u001b[0;34m\u001b[0m\u001b[0;34m\u001b[0m\u001b[0;34m\u001b[0m\u001b[0m\n\u001b[0;32m----> 2\u001b[0;31m \u001b[0mstock_df\u001b[0m\u001b[0;34m=\u001b[0m\u001b[0mpd\u001b[0m\u001b[0;34m.\u001b[0m\u001b[0mDataFrame\u001b[0m\u001b[0;34m(\u001b[0m\u001b[0msummary_details\u001b[0m\u001b[0;34m)\u001b[0m\u001b[0;34m.\u001b[0m\u001b[0mT\u001b[0m\u001b[0;34m\u001b[0m\u001b[0;34m\u001b[0m\u001b[0m\n\u001b[0m\u001b[1;32m      3\u001b[0m \u001b[0mstock_df\u001b[0m\u001b[0;34m.\u001b[0m\u001b[0mcolumns\u001b[0m\u001b[0;34m\u001b[0m\u001b[0;34m\u001b[0m\u001b[0m\n",
      "\u001b[0;31mNameError\u001b[0m: name 'summary_details' is not defined"
     ]
    }
   ],
   "source": [
    "#dataframe and transposed\n",
    "stock_df=pd.DataFrame(summary_details).T\n",
    "stock_df.columns\n"
   ]
  },
  {
   "cell_type": "code",
   "execution_count": 33,
   "id": "5f789f91",
   "metadata": {},
   "outputs": [
    {
     "ename": "NameError",
     "evalue": "name 'stock_df' is not defined",
     "output_type": "error",
     "traceback": [
      "\u001b[0;31m---------------------------------------------------------------------------\u001b[0m",
      "\u001b[0;31mNameError\u001b[0m                                 Traceback (most recent call last)",
      "\u001b[0;32m/var/folders/01/32b7ssj95lgfnc56qzqksjzr0000gn/T/ipykernel_58538/586945474.py\u001b[0m in \u001b[0;36m<module>\u001b[0;34m\u001b[0m\n\u001b[1;32m      3\u001b[0m        \u001b[0;34m'regularMarketPreviousClose'\u001b[0m\u001b[0;34m,\u001b[0m \u001b[0;34m'regularMarketOpen'\u001b[0m\u001b[0;34m,\u001b[0m\u001b[0;34m\u001b[0m\u001b[0;34m\u001b[0m\u001b[0m\n\u001b[1;32m      4\u001b[0m        'regularMarketDayLow', 'regularMarketDayHigh','volume', 'regularMarketVolume']\n\u001b[0;32m----> 5\u001b[0;31m \u001b[0mstock_df\u001b[0m \u001b[0;34m=\u001b[0m \u001b[0mstock_df\u001b[0m\u001b[0;34m.\u001b[0m\u001b[0mloc\u001b[0m\u001b[0;34m[\u001b[0m\u001b[0;34m:\u001b[0m\u001b[0;34m,\u001b[0m \u001b[0mcolumns\u001b[0m\u001b[0;34m]\u001b[0m\u001b[0;34m.\u001b[0m\u001b[0mcopy\u001b[0m\u001b[0;34m(\u001b[0m\u001b[0;34m)\u001b[0m\u001b[0;34m\u001b[0m\u001b[0;34m\u001b[0m\u001b[0m\n\u001b[0m\u001b[1;32m      6\u001b[0m \u001b[0mstock_df\u001b[0m\u001b[0;34m\u001b[0m\u001b[0;34m\u001b[0m\u001b[0m\n",
      "\u001b[0;31mNameError\u001b[0m: name 'stock_df' is not defined"
     ]
    }
   ],
   "source": [
    "#Desired columns\n",
    "columns=['open','dayLow', 'dayHigh',\n",
    "       'regularMarketPreviousClose', 'regularMarketOpen',\n",
    "       'regularMarketDayLow', 'regularMarketDayHigh','volume', 'regularMarketVolume']\n",
    "stock_df = stock_df.loc[:, columns].copy()\n",
    "stock_df"
   ]
  },
  {
   "cell_type": "code",
   "execution_count": null,
   "id": "f390cf48",
   "metadata": {},
   "outputs": [],
   "source": []
  }
 ],
 "metadata": {
  "kernelspec": {
   "display_name": "Python 3 (ipykernel)",
   "language": "python",
   "name": "python3"
  },
  "language_info": {
   "codemirror_mode": {
    "name": "ipython",
    "version": 3
   },
   "file_extension": ".py",
   "mimetype": "text/x-python",
   "name": "python",
   "nbconvert_exporter": "python",
   "pygments_lexer": "ipython3",
   "version": "3.7.13"
  }
 },
 "nbformat": 4,
 "nbformat_minor": 5
}
