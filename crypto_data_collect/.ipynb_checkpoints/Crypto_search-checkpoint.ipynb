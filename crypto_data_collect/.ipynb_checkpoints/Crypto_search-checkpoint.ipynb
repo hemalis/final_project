{
 "cells": [
  {
   "cell_type": "code",
   "execution_count": 1,
   "id": "882d2b56",
   "metadata": {},
   "outputs": [
    {
     "ename": "ModuleNotFoundError",
     "evalue": "No module named 'pycoingecko'",
     "output_type": "error",
     "traceback": [
      "\u001b[0;31m---------------------------------------------------------------------------\u001b[0m",
      "\u001b[0;31mModuleNotFoundError\u001b[0m                       Traceback (most recent call last)",
      "\u001b[0;32m/var/folders/01/32b7ssj95lgfnc56qzqksjzr0000gn/T/ipykernel_39378/1768551206.py\u001b[0m in \u001b[0;36m<module>\u001b[0;34m\u001b[0m\n\u001b[1;32m      6\u001b[0m \u001b[0;32mimport\u001b[0m \u001b[0mplotly\u001b[0m\u001b[0;34m.\u001b[0m\u001b[0mgraph_objects\u001b[0m \u001b[0;32mas\u001b[0m \u001b[0mgo\u001b[0m\u001b[0;34m\u001b[0m\u001b[0;34m\u001b[0m\u001b[0m\n\u001b[1;32m      7\u001b[0m \u001b[0;32mfrom\u001b[0m \u001b[0mplotly\u001b[0m\u001b[0;34m.\u001b[0m\u001b[0moffline\u001b[0m \u001b[0;32mimport\u001b[0m \u001b[0mplot\u001b[0m\u001b[0;34m\u001b[0m\u001b[0;34m\u001b[0m\u001b[0m\n\u001b[0;32m----> 8\u001b[0;31m \u001b[0;32mfrom\u001b[0m \u001b[0mpycoingecko\u001b[0m \u001b[0;32mimport\u001b[0m \u001b[0mCoinGeckoAPI\u001b[0m\u001b[0;34m\u001b[0m\u001b[0;34m\u001b[0m\u001b[0m\n\u001b[0m",
      "\u001b[0;31mModuleNotFoundError\u001b[0m: No module named 'pycoingecko'"
     ]
    }
   ],
   "source": [
    "#pip install pycoingecko\n",
    "#import modules\n",
    "import pandas as pd\n",
    "import datetime\n",
    "import time as t\n",
    "import plotly.graph_objects as go\n",
    "from plotly.offline import plot\n",
    "from pycoingecko import CoinGeckoAPI"
   ]
  },
  {
   "cell_type": "code",
   "execution_count": 2,
   "id": "a6073d14",
   "metadata": {},
   "outputs": [
    {
     "ename": "NameError",
     "evalue": "name 'CoinGeckoAPI' is not defined",
     "output_type": "error",
     "traceback": [
      "\u001b[0;31m---------------------------------------------------------------------------\u001b[0m",
      "\u001b[0;31mNameError\u001b[0m                                 Traceback (most recent call last)",
      "\u001b[0;32m/var/folders/01/32b7ssj95lgfnc56qzqksjzr0000gn/T/ipykernel_39378/3174194315.py\u001b[0m in \u001b[0;36m<module>\u001b[0;34m\u001b[0m\n\u001b[1;32m      1\u001b[0m \u001b[0;31m#create a client\u001b[0m\u001b[0;34m\u001b[0m\u001b[0;34m\u001b[0m\u001b[0;34m\u001b[0m\u001b[0m\n\u001b[0;32m----> 2\u001b[0;31m \u001b[0mcg\u001b[0m \u001b[0;34m=\u001b[0m \u001b[0mCoinGeckoAPI\u001b[0m\u001b[0;34m(\u001b[0m\u001b[0;34m)\u001b[0m\u001b[0;34m\u001b[0m\u001b[0;34m\u001b[0m\u001b[0m\n\u001b[0m\u001b[1;32m      3\u001b[0m \u001b[0;31m#confirm connection\u001b[0m\u001b[0;34m\u001b[0m\u001b[0;34m\u001b[0m\u001b[0;34m\u001b[0m\u001b[0m\n\u001b[1;32m      4\u001b[0m \u001b[0mCoinGeckoAPI\u001b[0m\u001b[0;34m(\u001b[0m\u001b[0;34m)\u001b[0m\u001b[0;34m.\u001b[0m\u001b[0mping\u001b[0m\u001b[0;34m(\u001b[0m\u001b[0;34m)\u001b[0m\u001b[0;34m\u001b[0m\u001b[0;34m\u001b[0m\u001b[0m\n",
      "\u001b[0;31mNameError\u001b[0m: name 'CoinGeckoAPI' is not defined"
     ]
    }
   ],
   "source": [
    "#create a client\n",
    "cg = CoinGeckoAPI()\n",
    "#confirm connection\n",
    "CoinGeckoAPI().ping()"
   ]
  },
  {
   "cell_type": "code",
   "execution_count": null,
   "id": "bc97e7ea",
   "metadata": {},
   "outputs": [],
   "source": [
    "#get a list of coins, sort df by id\n",
    "coin_list = CoinGeckoAPI().get_coins_list()\n",
    "coin_df = pd.DataFrame(coin_list).sort_values('symbol').reset_index(drop=True)\n",
    "coin_df.head()"
   ]
  },
  {
   "cell_type": "code",
   "execution_count": null,
   "id": "665ed868",
   "metadata": {},
   "outputs": [],
   "source": [
    "coins = ['bitcoin','ethereum','bnb','binance','xrp','cardano','solana','dodgecoin','polkadot']\n",
    "coin_df.loc[(coin_df['id']=='bitcoin')|(coin_df['id']=='ethereum')|\n",
    "            (coin_df['id']=='bnb')|(coin_df['id']=='ripple')|\n",
    "            (coin_df['id']=='cardano')|(coin_df['id']=='solana')|\n",
    "            (coin_df['id']=='doge')|(coin_df['id']=='polkadot'),:]\n",
    "# coin_df.loc[(coin_df['symbol']=='btc')|(coin_df['symbol']=='eth')|\n",
    "#             (coin_df['symbol']=='bnb')|(coin_df['symbol']=='xrp')|\n",
    "#             (coin_df['symbol']=='ada')|(coin_df['symbol']=='sol')|\n",
    "#             (coin_df['symbol']=='doge')|(coin_df['symbol']=='dot')\n",
    "#             |(coin_df['symbol']=='binance'),:]"
   ]
  },
  {
   "cell_type": "code",
   "execution_count": null,
   "id": "c11112bf",
   "metadata": {},
   "outputs": [],
   "source": [
    "counterCurrencies = CoinGeckoAPI().get_supported_vs_currencies()\n",
    "counterCurrencies\n",
    "currency = ['usd']\n",
    "simplePriceRequest = CoinGeckoAPI().get_price(ids = coins, vs_currencies = 'usd')\n",
    "simplePriceRequest\n",
    "marketcap_vol_change = CoinGeckoAPI().get_price(ids = coins, \n",
    "                        vs_currencies = currency, \n",
    "                        include_market_cap = True,\n",
    "                        include_24hr_vol = True,\n",
    "                        include_24hr_change = True,\n",
    "                        include_last_updated_at = True)\n",
    "print(marketcap_vol_change)\n",
    "#dataframe and transposed\n",
    "marketcap_vol_change_df=pd.DataFrame(marketcap_vol_change).T\n",
    "# #reformat date\n",
    "\n",
    "marketcap_vol_change_df['last_updated_at'] = pd.to_datetime(marketcap_vol_change_df['last_updated_at'],unit='s')\n",
    "#reformat volume\n",
    "marketcap_vol_change_df['usd'] = marketcap_vol_change_df['usd'].map(\"${:,.2f}\".format)\n",
    "marketcap_vol_change_df['usd_24h_vol'] = marketcap_vol_change_df['usd_24h_vol'].map(\"${:,.2f}\".format)\n",
    "marketcap_vol_change_df['usd_market_cap'] = marketcap_vol_change_df['usd_market_cap'].map(\"${:,.2f}\".format)\n",
    "marketcap_vol_change_df"
   ]
  },
  {
   "cell_type": "code",
   "execution_count": null,
   "id": "a63d5e0b",
   "metadata": {},
   "outputs": [],
   "source": []
  },
  {
   "cell_type": "code",
   "execution_count": null,
   "id": "cd600ba8",
   "metadata": {},
   "outputs": [],
   "source": []
  },
  {
   "cell_type": "code",
   "execution_count": null,
   "id": "13a32860",
   "metadata": {},
   "outputs": [],
   "source": []
  }
 ],
 "metadata": {
  "kernelspec": {
   "display_name": "Python 3 (ipykernel)",
   "language": "python",
   "name": "python3"
  },
  "language_info": {
   "codemirror_mode": {
    "name": "ipython",
    "version": 3
   },
   "file_extension": ".py",
   "mimetype": "text/x-python",
   "name": "python",
   "nbconvert_exporter": "python",
   "pygments_lexer": "ipython3",
   "version": "3.7.13"
  }
 },
 "nbformat": 4,
 "nbformat_minor": 5
}
